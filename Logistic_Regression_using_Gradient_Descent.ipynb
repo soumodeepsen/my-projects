{
  "nbformat": 4,
  "nbformat_minor": 0,
  "metadata": {
    "colab": {
      "name": "Logistic Regression using Gradient Descent.ipynb",
      "provenance": []
    },
    "kernelspec": {
      "name": "python3",
      "display_name": "Python 3"
    },
    "language_info": {
      "name": "python"
    }
  },
  "cells": [
    {
      "cell_type": "code",
      "execution_count": 1,
      "metadata": {
        "id": "FSNPriO2XRI9"
      },
      "outputs": [],
      "source": [
        "import pandas as pd\n",
        "import numpy as np\n",
        "import matplotlib.pyplot as plt\n",
        "from sklearn.preprocessing import LabelEncoder, MinMaxScaler\n",
        "import seaborn as sns\n",
        "from sklearn.model_selection import train_test_split\n",
        "from sklearn.metrics import accuracy_score, confusion_matrix, f1_score, roc_curve, roc_auc_score\n",
        "from sklearn.feature_selection import chi2,mutual_info_classif,SelectKBest"
      ]
    },
    {
      "cell_type": "code",
      "execution_count": 2,
      "metadata": {
        "colab": {
          "base_uri": "https://localhost:8080/",
          "height": 206
        },
        "id": "zThLLCdUdIw1",
        "outputId": "20c09769-e239-4117-c090-3f528c1dbb7f"
      },
      "outputs": [
        {
          "output_type": "execute_result",
          "data": {
            "text/plain": [
              "       age     workclass  fnlwgt  education  education.num  \\\n",
              "21471   47  Self-emp-inc   96798    HS-grad              9   \n",
              "26907   60       Private  239576    Masters             14   \n",
              "257     38   Federal-gov  248919    HS-grad              9   \n",
              "6179    39       Private   34028  Bachelors             13   \n",
              "9689    38     Local-gov  289430    HS-grad              9   \n",
              "\n",
              "           marital.status        occupation   relationship   race     sex  \\\n",
              "21471  Married-civ-spouse   Exec-managerial        Husband  White    Male   \n",
              "26907  Married-civ-spouse  Transport-moving        Husband  White    Male   \n",
              "257    Married-civ-spouse  Transport-moving        Husband  White    Male   \n",
              "6179             Divorced   Exec-managerial      Unmarried  White  Female   \n",
              "9689             Divorced   Protective-serv  Not-in-family  White    Male   \n",
              "\n",
              "       capital.gain  capital.loss  hours.per.week native.country income  \n",
              "21471             0             0              80  United-States   >50K  \n",
              "26907             0             0              10  United-States  <=50K  \n",
              "257               0          2051              40  United-States  <=50K  \n",
              "6179              0             0              48  United-States  <=50K  \n",
              "9689              0             0              56  United-States  <=50K  "
            ],
            "text/html": [
              "\n",
              "  <div id=\"df-f46ca89c-272c-4c5f-861c-bfc52e5082b2\">\n",
              "    <div class=\"colab-df-container\">\n",
              "      <div>\n",
              "<style scoped>\n",
              "    .dataframe tbody tr th:only-of-type {\n",
              "        vertical-align: middle;\n",
              "    }\n",
              "\n",
              "    .dataframe tbody tr th {\n",
              "        vertical-align: top;\n",
              "    }\n",
              "\n",
              "    .dataframe thead th {\n",
              "        text-align: right;\n",
              "    }\n",
              "</style>\n",
              "<table border=\"1\" class=\"dataframe\">\n",
              "  <thead>\n",
              "    <tr style=\"text-align: right;\">\n",
              "      <th></th>\n",
              "      <th>age</th>\n",
              "      <th>workclass</th>\n",
              "      <th>fnlwgt</th>\n",
              "      <th>education</th>\n",
              "      <th>education.num</th>\n",
              "      <th>marital.status</th>\n",
              "      <th>occupation</th>\n",
              "      <th>relationship</th>\n",
              "      <th>race</th>\n",
              "      <th>sex</th>\n",
              "      <th>capital.gain</th>\n",
              "      <th>capital.loss</th>\n",
              "      <th>hours.per.week</th>\n",
              "      <th>native.country</th>\n",
              "      <th>income</th>\n",
              "    </tr>\n",
              "  </thead>\n",
              "  <tbody>\n",
              "    <tr>\n",
              "      <th>21471</th>\n",
              "      <td>47</td>\n",
              "      <td>Self-emp-inc</td>\n",
              "      <td>96798</td>\n",
              "      <td>HS-grad</td>\n",
              "      <td>9</td>\n",
              "      <td>Married-civ-spouse</td>\n",
              "      <td>Exec-managerial</td>\n",
              "      <td>Husband</td>\n",
              "      <td>White</td>\n",
              "      <td>Male</td>\n",
              "      <td>0</td>\n",
              "      <td>0</td>\n",
              "      <td>80</td>\n",
              "      <td>United-States</td>\n",
              "      <td>&gt;50K</td>\n",
              "    </tr>\n",
              "    <tr>\n",
              "      <th>26907</th>\n",
              "      <td>60</td>\n",
              "      <td>Private</td>\n",
              "      <td>239576</td>\n",
              "      <td>Masters</td>\n",
              "      <td>14</td>\n",
              "      <td>Married-civ-spouse</td>\n",
              "      <td>Transport-moving</td>\n",
              "      <td>Husband</td>\n",
              "      <td>White</td>\n",
              "      <td>Male</td>\n",
              "      <td>0</td>\n",
              "      <td>0</td>\n",
              "      <td>10</td>\n",
              "      <td>United-States</td>\n",
              "      <td>&lt;=50K</td>\n",
              "    </tr>\n",
              "    <tr>\n",
              "      <th>257</th>\n",
              "      <td>38</td>\n",
              "      <td>Federal-gov</td>\n",
              "      <td>248919</td>\n",
              "      <td>HS-grad</td>\n",
              "      <td>9</td>\n",
              "      <td>Married-civ-spouse</td>\n",
              "      <td>Transport-moving</td>\n",
              "      <td>Husband</td>\n",
              "      <td>White</td>\n",
              "      <td>Male</td>\n",
              "      <td>0</td>\n",
              "      <td>2051</td>\n",
              "      <td>40</td>\n",
              "      <td>United-States</td>\n",
              "      <td>&lt;=50K</td>\n",
              "    </tr>\n",
              "    <tr>\n",
              "      <th>6179</th>\n",
              "      <td>39</td>\n",
              "      <td>Private</td>\n",
              "      <td>34028</td>\n",
              "      <td>Bachelors</td>\n",
              "      <td>13</td>\n",
              "      <td>Divorced</td>\n",
              "      <td>Exec-managerial</td>\n",
              "      <td>Unmarried</td>\n",
              "      <td>White</td>\n",
              "      <td>Female</td>\n",
              "      <td>0</td>\n",
              "      <td>0</td>\n",
              "      <td>48</td>\n",
              "      <td>United-States</td>\n",
              "      <td>&lt;=50K</td>\n",
              "    </tr>\n",
              "    <tr>\n",
              "      <th>9689</th>\n",
              "      <td>38</td>\n",
              "      <td>Local-gov</td>\n",
              "      <td>289430</td>\n",
              "      <td>HS-grad</td>\n",
              "      <td>9</td>\n",
              "      <td>Divorced</td>\n",
              "      <td>Protective-serv</td>\n",
              "      <td>Not-in-family</td>\n",
              "      <td>White</td>\n",
              "      <td>Male</td>\n",
              "      <td>0</td>\n",
              "      <td>0</td>\n",
              "      <td>56</td>\n",
              "      <td>United-States</td>\n",
              "      <td>&lt;=50K</td>\n",
              "    </tr>\n",
              "  </tbody>\n",
              "</table>\n",
              "</div>\n",
              "      <button class=\"colab-df-convert\" onclick=\"convertToInteractive('df-f46ca89c-272c-4c5f-861c-bfc52e5082b2')\"\n",
              "              title=\"Convert this dataframe to an interactive table.\"\n",
              "              style=\"display:none;\">\n",
              "        \n",
              "  <svg xmlns=\"http://www.w3.org/2000/svg\" height=\"24px\"viewBox=\"0 0 24 24\"\n",
              "       width=\"24px\">\n",
              "    <path d=\"M0 0h24v24H0V0z\" fill=\"none\"/>\n",
              "    <path d=\"M18.56 5.44l.94 2.06.94-2.06 2.06-.94-2.06-.94-.94-2.06-.94 2.06-2.06.94zm-11 1L8.5 8.5l.94-2.06 2.06-.94-2.06-.94L8.5 2.5l-.94 2.06-2.06.94zm10 10l.94 2.06.94-2.06 2.06-.94-2.06-.94-.94-2.06-.94 2.06-2.06.94z\"/><path d=\"M17.41 7.96l-1.37-1.37c-.4-.4-.92-.59-1.43-.59-.52 0-1.04.2-1.43.59L10.3 9.45l-7.72 7.72c-.78.78-.78 2.05 0 2.83L4 21.41c.39.39.9.59 1.41.59.51 0 1.02-.2 1.41-.59l7.78-7.78 2.81-2.81c.8-.78.8-2.07 0-2.86zM5.41 20L4 18.59l7.72-7.72 1.47 1.35L5.41 20z\"/>\n",
              "  </svg>\n",
              "      </button>\n",
              "      \n",
              "  <style>\n",
              "    .colab-df-container {\n",
              "      display:flex;\n",
              "      flex-wrap:wrap;\n",
              "      gap: 12px;\n",
              "    }\n",
              "\n",
              "    .colab-df-convert {\n",
              "      background-color: #E8F0FE;\n",
              "      border: none;\n",
              "      border-radius: 50%;\n",
              "      cursor: pointer;\n",
              "      display: none;\n",
              "      fill: #1967D2;\n",
              "      height: 32px;\n",
              "      padding: 0 0 0 0;\n",
              "      width: 32px;\n",
              "    }\n",
              "\n",
              "    .colab-df-convert:hover {\n",
              "      background-color: #E2EBFA;\n",
              "      box-shadow: 0px 1px 2px rgba(60, 64, 67, 0.3), 0px 1px 3px 1px rgba(60, 64, 67, 0.15);\n",
              "      fill: #174EA6;\n",
              "    }\n",
              "\n",
              "    [theme=dark] .colab-df-convert {\n",
              "      background-color: #3B4455;\n",
              "      fill: #D2E3FC;\n",
              "    }\n",
              "\n",
              "    [theme=dark] .colab-df-convert:hover {\n",
              "      background-color: #434B5C;\n",
              "      box-shadow: 0px 1px 3px 1px rgba(0, 0, 0, 0.15);\n",
              "      filter: drop-shadow(0px 1px 2px rgba(0, 0, 0, 0.3));\n",
              "      fill: #FFFFFF;\n",
              "    }\n",
              "  </style>\n",
              "\n",
              "      <script>\n",
              "        const buttonEl =\n",
              "          document.querySelector('#df-f46ca89c-272c-4c5f-861c-bfc52e5082b2 button.colab-df-convert');\n",
              "        buttonEl.style.display =\n",
              "          google.colab.kernel.accessAllowed ? 'block' : 'none';\n",
              "\n",
              "        async function convertToInteractive(key) {\n",
              "          const element = document.querySelector('#df-f46ca89c-272c-4c5f-861c-bfc52e5082b2');\n",
              "          const dataTable =\n",
              "            await google.colab.kernel.invokeFunction('convertToInteractive',\n",
              "                                                     [key], {});\n",
              "          if (!dataTable) return;\n",
              "\n",
              "          const docLinkHtml = 'Like what you see? Visit the ' +\n",
              "            '<a target=\"_blank\" href=https://colab.research.google.com/notebooks/data_table.ipynb>data table notebook</a>'\n",
              "            + ' to learn more about interactive tables.';\n",
              "          element.innerHTML = '';\n",
              "          dataTable['output_type'] = 'display_data';\n",
              "          await google.colab.output.renderOutput(dataTable, element);\n",
              "          const docLink = document.createElement('div');\n",
              "          docLink.innerHTML = docLinkHtml;\n",
              "          element.appendChild(docLink);\n",
              "        }\n",
              "      </script>\n",
              "    </div>\n",
              "  </div>\n",
              "  "
            ]
          },
          "metadata": {},
          "execution_count": 2
        }
      ],
      "source": [
        "df = pd.read_csv('adult.csv')\n",
        "df.sample(5)"
      ]
    },
    {
      "cell_type": "markdown",
      "metadata": {
        "id": "ZVHC_77Oe6ER"
      },
      "source": [
        "#Question 1:\n",
        "\n",
        "Preprocess the given data\n",
        "\n",
        "● Handle missing data if any\n",
        "\n",
        "● Generate new features by combining existing features if required.\n"
      ]
    },
    {
      "cell_type": "code",
      "source": [
        "# Some columns were spotted with '?' as element. To replace them with NaN value and drop those columns\n",
        "for column in df.columns:\n",
        "    if '?' in list(df[column].unique()):\n",
        "        print(f\"Unique elements in {column} column are {df[column].unique()}\")\n",
        "        df[column].replace('?',np.nan,inplace=True)"
      ],
      "metadata": {
        "colab": {
          "base_uri": "https://localhost:8080/"
        },
        "id": "aqcYJlXstzbX",
        "outputId": "cea00d52-26a8-4183-9d89-c10bc5dd81ba"
      },
      "execution_count": 3,
      "outputs": [
        {
          "output_type": "stream",
          "name": "stdout",
          "text": [
            "Unique elements in workclass column are ['?' 'Private' 'State-gov' 'Federal-gov' 'Self-emp-not-inc' 'Self-emp-inc'\n",
            " 'Local-gov' 'Without-pay' 'Never-worked']\n",
            "Unique elements in occupation column are ['?' 'Exec-managerial' 'Machine-op-inspct' 'Prof-specialty'\n",
            " 'Other-service' 'Adm-clerical' 'Craft-repair' 'Transport-moving'\n",
            " 'Handlers-cleaners' 'Sales' 'Farming-fishing' 'Tech-support'\n",
            " 'Protective-serv' 'Armed-Forces' 'Priv-house-serv']\n",
            "Unique elements in native.country column are ['United-States' '?' 'Mexico' 'Greece' 'Vietnam' 'China' 'Taiwan' 'India'\n",
            " 'Philippines' 'Trinadad&Tobago' 'Canada' 'South' 'Holand-Netherlands'\n",
            " 'Puerto-Rico' 'Poland' 'Iran' 'England' 'Germany' 'Italy' 'Japan' 'Hong'\n",
            " 'Honduras' 'Cuba' 'Ireland' 'Cambodia' 'Peru' 'Nicaragua'\n",
            " 'Dominican-Republic' 'Haiti' 'El-Salvador' 'Hungary' 'Columbia'\n",
            " 'Guatemala' 'Jamaica' 'Ecuador' 'France' 'Yugoslavia' 'Scotland'\n",
            " 'Portugal' 'Laos' 'Thailand' 'Outlying-US(Guam-USVI-etc)']\n"
          ]
        }
      ]
    },
    {
      "cell_type": "code",
      "source": [
        "df.dropna(inplace=True)"
      ],
      "metadata": {
        "id": "GpRJFlnrwejB"
      },
      "execution_count": 4,
      "outputs": []
    },
    {
      "cell_type": "code",
      "source": [
        "df = df.apply(LabelEncoder().fit_transform)\n",
        "df.sample(5)"
      ],
      "metadata": {
        "colab": {
          "base_uri": "https://localhost:8080/",
          "height": 206
        },
        "id": "-Jk19_T_1y6b",
        "outputId": "93b97bd3-92cb-4c7a-bf7e-ad5391df7054"
      },
      "execution_count": 5,
      "outputs": [
        {
          "output_type": "execute_result",
          "data": {
            "text/plain": [
              "       age  workclass  fnlwgt  education  education.num  marital.status  \\\n",
              "29492    7          2    5593         11              8               4   \n",
              "2733     7          2    8054         15              9               2   \n",
              "25259   30          4   13397         12             13               2   \n",
              "15325    3          2    3229         15              9               4   \n",
              "20282   22          4   12619         11              8               2   \n",
              "\n",
              "       occupation  relationship  race  sex  capital.gain  capital.loss  \\\n",
              "29492           5             2     4    1             0             0   \n",
              "2733            0             0     4    1            90             0   \n",
              "25259           3             0     4    1             0             0   \n",
              "15325           9             1     3    0             0             0   \n",
              "20282          13             0     4    1             0             0   \n",
              "\n",
              "       hours.per.week  native.country  income  \n",
              "29492              39              38       0  \n",
              "2733               39              38       1  \n",
              "25259              44              38       0  \n",
              "15325              19              38       0  \n",
              "20282              59              38       1  "
            ],
            "text/html": [
              "\n",
              "  <div id=\"df-ffc1f661-f9d3-4fc2-9c12-58701c3408ef\">\n",
              "    <div class=\"colab-df-container\">\n",
              "      <div>\n",
              "<style scoped>\n",
              "    .dataframe tbody tr th:only-of-type {\n",
              "        vertical-align: middle;\n",
              "    }\n",
              "\n",
              "    .dataframe tbody tr th {\n",
              "        vertical-align: top;\n",
              "    }\n",
              "\n",
              "    .dataframe thead th {\n",
              "        text-align: right;\n",
              "    }\n",
              "</style>\n",
              "<table border=\"1\" class=\"dataframe\">\n",
              "  <thead>\n",
              "    <tr style=\"text-align: right;\">\n",
              "      <th></th>\n",
              "      <th>age</th>\n",
              "      <th>workclass</th>\n",
              "      <th>fnlwgt</th>\n",
              "      <th>education</th>\n",
              "      <th>education.num</th>\n",
              "      <th>marital.status</th>\n",
              "      <th>occupation</th>\n",
              "      <th>relationship</th>\n",
              "      <th>race</th>\n",
              "      <th>sex</th>\n",
              "      <th>capital.gain</th>\n",
              "      <th>capital.loss</th>\n",
              "      <th>hours.per.week</th>\n",
              "      <th>native.country</th>\n",
              "      <th>income</th>\n",
              "    </tr>\n",
              "  </thead>\n",
              "  <tbody>\n",
              "    <tr>\n",
              "      <th>29492</th>\n",
              "      <td>7</td>\n",
              "      <td>2</td>\n",
              "      <td>5593</td>\n",
              "      <td>11</td>\n",
              "      <td>8</td>\n",
              "      <td>4</td>\n",
              "      <td>5</td>\n",
              "      <td>2</td>\n",
              "      <td>4</td>\n",
              "      <td>1</td>\n",
              "      <td>0</td>\n",
              "      <td>0</td>\n",
              "      <td>39</td>\n",
              "      <td>38</td>\n",
              "      <td>0</td>\n",
              "    </tr>\n",
              "    <tr>\n",
              "      <th>2733</th>\n",
              "      <td>7</td>\n",
              "      <td>2</td>\n",
              "      <td>8054</td>\n",
              "      <td>15</td>\n",
              "      <td>9</td>\n",
              "      <td>2</td>\n",
              "      <td>0</td>\n",
              "      <td>0</td>\n",
              "      <td>4</td>\n",
              "      <td>1</td>\n",
              "      <td>90</td>\n",
              "      <td>0</td>\n",
              "      <td>39</td>\n",
              "      <td>38</td>\n",
              "      <td>1</td>\n",
              "    </tr>\n",
              "    <tr>\n",
              "      <th>25259</th>\n",
              "      <td>30</td>\n",
              "      <td>4</td>\n",
              "      <td>13397</td>\n",
              "      <td>12</td>\n",
              "      <td>13</td>\n",
              "      <td>2</td>\n",
              "      <td>3</td>\n",
              "      <td>0</td>\n",
              "      <td>4</td>\n",
              "      <td>1</td>\n",
              "      <td>0</td>\n",
              "      <td>0</td>\n",
              "      <td>44</td>\n",
              "      <td>38</td>\n",
              "      <td>0</td>\n",
              "    </tr>\n",
              "    <tr>\n",
              "      <th>15325</th>\n",
              "      <td>3</td>\n",
              "      <td>2</td>\n",
              "      <td>3229</td>\n",
              "      <td>15</td>\n",
              "      <td>9</td>\n",
              "      <td>4</td>\n",
              "      <td>9</td>\n",
              "      <td>1</td>\n",
              "      <td>3</td>\n",
              "      <td>0</td>\n",
              "      <td>0</td>\n",
              "      <td>0</td>\n",
              "      <td>19</td>\n",
              "      <td>38</td>\n",
              "      <td>0</td>\n",
              "    </tr>\n",
              "    <tr>\n",
              "      <th>20282</th>\n",
              "      <td>22</td>\n",
              "      <td>4</td>\n",
              "      <td>12619</td>\n",
              "      <td>11</td>\n",
              "      <td>8</td>\n",
              "      <td>2</td>\n",
              "      <td>13</td>\n",
              "      <td>0</td>\n",
              "      <td>4</td>\n",
              "      <td>1</td>\n",
              "      <td>0</td>\n",
              "      <td>0</td>\n",
              "      <td>59</td>\n",
              "      <td>38</td>\n",
              "      <td>1</td>\n",
              "    </tr>\n",
              "  </tbody>\n",
              "</table>\n",
              "</div>\n",
              "      <button class=\"colab-df-convert\" onclick=\"convertToInteractive('df-ffc1f661-f9d3-4fc2-9c12-58701c3408ef')\"\n",
              "              title=\"Convert this dataframe to an interactive table.\"\n",
              "              style=\"display:none;\">\n",
              "        \n",
              "  <svg xmlns=\"http://www.w3.org/2000/svg\" height=\"24px\"viewBox=\"0 0 24 24\"\n",
              "       width=\"24px\">\n",
              "    <path d=\"M0 0h24v24H0V0z\" fill=\"none\"/>\n",
              "    <path d=\"M18.56 5.44l.94 2.06.94-2.06 2.06-.94-2.06-.94-.94-2.06-.94 2.06-2.06.94zm-11 1L8.5 8.5l.94-2.06 2.06-.94-2.06-.94L8.5 2.5l-.94 2.06-2.06.94zm10 10l.94 2.06.94-2.06 2.06-.94-2.06-.94-.94-2.06-.94 2.06-2.06.94z\"/><path d=\"M17.41 7.96l-1.37-1.37c-.4-.4-.92-.59-1.43-.59-.52 0-1.04.2-1.43.59L10.3 9.45l-7.72 7.72c-.78.78-.78 2.05 0 2.83L4 21.41c.39.39.9.59 1.41.59.51 0 1.02-.2 1.41-.59l7.78-7.78 2.81-2.81c.8-.78.8-2.07 0-2.86zM5.41 20L4 18.59l7.72-7.72 1.47 1.35L5.41 20z\"/>\n",
              "  </svg>\n",
              "      </button>\n",
              "      \n",
              "  <style>\n",
              "    .colab-df-container {\n",
              "      display:flex;\n",
              "      flex-wrap:wrap;\n",
              "      gap: 12px;\n",
              "    }\n",
              "\n",
              "    .colab-df-convert {\n",
              "      background-color: #E8F0FE;\n",
              "      border: none;\n",
              "      border-radius: 50%;\n",
              "      cursor: pointer;\n",
              "      display: none;\n",
              "      fill: #1967D2;\n",
              "      height: 32px;\n",
              "      padding: 0 0 0 0;\n",
              "      width: 32px;\n",
              "    }\n",
              "\n",
              "    .colab-df-convert:hover {\n",
              "      background-color: #E2EBFA;\n",
              "      box-shadow: 0px 1px 2px rgba(60, 64, 67, 0.3), 0px 1px 3px 1px rgba(60, 64, 67, 0.15);\n",
              "      fill: #174EA6;\n",
              "    }\n",
              "\n",
              "    [theme=dark] .colab-df-convert {\n",
              "      background-color: #3B4455;\n",
              "      fill: #D2E3FC;\n",
              "    }\n",
              "\n",
              "    [theme=dark] .colab-df-convert:hover {\n",
              "      background-color: #434B5C;\n",
              "      box-shadow: 0px 1px 3px 1px rgba(0, 0, 0, 0.15);\n",
              "      filter: drop-shadow(0px 1px 2px rgba(0, 0, 0, 0.3));\n",
              "      fill: #FFFFFF;\n",
              "    }\n",
              "  </style>\n",
              "\n",
              "      <script>\n",
              "        const buttonEl =\n",
              "          document.querySelector('#df-ffc1f661-f9d3-4fc2-9c12-58701c3408ef button.colab-df-convert');\n",
              "        buttonEl.style.display =\n",
              "          google.colab.kernel.accessAllowed ? 'block' : 'none';\n",
              "\n",
              "        async function convertToInteractive(key) {\n",
              "          const element = document.querySelector('#df-ffc1f661-f9d3-4fc2-9c12-58701c3408ef');\n",
              "          const dataTable =\n",
              "            await google.colab.kernel.invokeFunction('convertToInteractive',\n",
              "                                                     [key], {});\n",
              "          if (!dataTable) return;\n",
              "\n",
              "          const docLinkHtml = 'Like what you see? Visit the ' +\n",
              "            '<a target=\"_blank\" href=https://colab.research.google.com/notebooks/data_table.ipynb>data table notebook</a>'\n",
              "            + ' to learn more about interactive tables.';\n",
              "          element.innerHTML = '';\n",
              "          dataTable['output_type'] = 'display_data';\n",
              "          await google.colab.output.renderOutput(dataTable, element);\n",
              "          const docLink = document.createElement('div');\n",
              "          docLink.innerHTML = docLinkHtml;\n",
              "          element.appendChild(docLink);\n",
              "        }\n",
              "      </script>\n",
              "    </div>\n",
              "  </div>\n",
              "  "
            ]
          },
          "metadata": {},
          "execution_count": 5
        }
      ]
    },
    {
      "cell_type": "markdown",
      "metadata": {
        "id": "OtOZH73JfCHT"
      },
      "source": [
        "# Question 2:\n",
        "\n",
        "Use the given dataset to perform data analysis and report various findings related to the\n",
        "data. Investigate and find relationships between various attributes, how each feature is\n",
        "distributed.\n",
        "\n",
        "● Use Seaborn and matplotlib to investigate the data distribution and\n",
        "relationship and present your findings.\n",
        "\n",
        "● Use statistical methods learnt in the seminar to find useful attributes from\n",
        "the data (cherry pick the important ones).\n",
        "\n",
        "● Normalise the cherry picked features and use them for Question 3.\n"
      ]
    },
    {
      "cell_type": "code",
      "execution_count": 6,
      "metadata": {
        "colab": {
          "base_uri": "https://localhost:8080/",
          "height": 662
        },
        "id": "853pvQYYfFKp",
        "outputId": "282f1ca7-1acd-4244-9feb-685ad279ce0f"
      },
      "outputs": [
        {
          "output_type": "display_data",
          "data": {
            "text/plain": [
              "<Figure size 1080x720 with 2 Axes>"
            ],
            "image/png": "[encoded data removed]"
          },
          "metadata": {
            "needs_background": "light"
          }
        }
      ],
      "source": [
        "# Correlations between the feature columns\n",
        "cm = df.corr()\n",
        "plt.figure(figsize=(15,10))\n",
        "sns.heatmap(df.corr(), annot=True, linewidth = 0.5, cmap = 'autumn', fmt=\"0.2\")\n",
        "plt.show()"
      ]
    },
    {
      "cell_type": "code",
      "source": [
        "x= df.drop(['income'],axis=1)\n",
        "y = df['income']\n",
        "x_train,x_test,y_train,y_test = train_test_split(x,y,random_state=42,test_size=0.25)"
      ],
      "metadata": {
        "id": "ohVED2GtaYBN"
      },
      "execution_count": 7,
      "outputs": []
    },
    {
      "cell_type": "code",
      "source": [
        "best_features = SelectKBest(mutual_info_classif, k=6)\n",
        "best_features.fit_transform(x_train, y_train)"
      ],
      "metadata": {
        "colab": {
          "base_uri": "https://localhost:8080/"
        },
        "id": "SQ4ihiJhcMc3",
        "outputId": "af28de48-bf12-44b3-86c0-c4cf09968b41"
      },
      "execution_count": 8,
      "outputs": [
        {
          "output_type": "execute_result",
          "data": {
            "text/plain": [
              "array([[ 9, 12,  0,  3,  4,  0],\n",
              "       [11,  8,  4,  7,  3,  0],\n",
              "       [11,  8,  6,  7,  1,  0],\n",
              "       ...,\n",
              "       [ 9, 12,  4, 11,  1,  0],\n",
              "       [ 9, 12,  4,  3,  1,  0],\n",
              "       [11,  8,  4, 13,  1,  0]])"
            ]
          },
          "metadata": {},
          "execution_count": 8
        }
      ]
    },
    {
      "cell_type": "code",
      "source": [
        "x_train = x_train.iloc[:,best_features.get_support()]\n",
        "x_test = x_test.iloc[:,best_features.get_support()]"
      ],
      "metadata": {
        "id": "7cN9QzGqcn_K"
      },
      "execution_count": 9,
      "outputs": []
    },
    {
      "cell_type": "code",
      "source": [
        "x_train = pd.DataFrame(MinMaxScaler().fit_transform(x_train),\n",
        "                       columns = x_train.columns,\n",
        "                       index = x_train.index)\n",
        "x_test = pd.DataFrame(MinMaxScaler().fit_transform(x_test),\n",
        "                       columns = x_test.columns,\n",
        "                       index = x_test.index)"
      ],
      "metadata": {
        "id": "uIOI6I0dcv8Z"
      },
      "execution_count": 10,
      "outputs": []
    },
    {
      "cell_type": "markdown",
      "metadata": {
        "id": "itx9EFh3fFys"
      },
      "source": [
        "# Question 3:\n",
        "\n",
        "a) Write a function that learns the parameters of a logistic regression function given\n",
        "inputs\n",
        "\n",
        "• X: An n × m numpy array of independent variable values\n",
        "\n",
        "• Y : The n × 1 binary numpy array of output values\n",
        "\n",
        "• k: the number of iterations (epochs)\n",
        "\n",
        "• τ: the threshold on change in Cost function value from the previous to\n",
        "current iteration\n",
        "\n",
        "• λ: the learning rate for Gradient Descent\n",
        "\n",
        "\n",
        "The function should implement the Gradient Descent algorithm as discussed in class\n",
        "that initialises β (weights) with random values and then updates these values in each\n",
        "interaction by moving in the the direction defined by the partial derivative of the\n",
        "cost function with respect to each of the coefficients. The function should use only\n",
        "one loop that ends after a number of iterations (k) or a threshold on the change in\n",
        "cost function value (τ).\n"
      ]
    },
    {
      "cell_type": "code",
      "execution_count": 11,
      "metadata": {
        "id": "_VaO1UJUfS6B"
      },
      "outputs": [],
      "source": [
        "def gradient_descent(x, y, beta, learning_rate):\n",
        "  gradient = np.dot(x.T, sigmoid(np.dot(beta, x.T)) - y)/len(y)\n",
        "  beta -= learning_rate * gradient\n",
        "  return beta\n",
        "\n",
        "def SGDClassifier(x_train, y_train, x_test, y_test, betas, max_iters=2000, learning_rate = 0.5):\n",
        "    cost = []\n",
        "    acc = []\n",
        "    f = []\n",
        "    roc = []\n",
        "    for iterate in range(max_iters):\n",
        "        betas = gradient_descent(x_train, y_train, betas, learning_rate)\n",
        "        y_pred = sigmoid(np.dot(x_train, betas.T))\n",
        "        cost.append(log_loss(y_pred, y_train)/len(y_train))\n",
        "\n",
        "        y_p = sigmoid(np.dot(x_test, betas.T))\n",
        "        fpr, tpr, _ = roc_curve(y_test,y_p)\n",
        "        roc.append([fpr,tpr])\n",
        "        auc = roc_auc_score(y_test,y_p)\n",
        "        y_p[y_p>0.5] = 1\n",
        "        y_p[y_p<=0.5] = 0\n",
        "        accuracy = accuracy_score(y_test, y_p)\n",
        "        acc.append(accuracy)\n",
        "        f.append(f1_score(y_test,y_p))\n",
        "\n",
        "    cm = confusion_matrix(y_test,y_p)\n",
        "    print(f\"The confusion matrix is \\n{cm}\")\n",
        "    return y_pred, y_p, betas, cost, acc, f, roc , auc\n",
        "\n",
        "sigmoid = lambda z: 1/(1 + np.exp(-z))\n",
        "log_loss = lambda y_bar, y: np.sum(-y*np.log(y_bar)-(1-y)*np.log(1-y_bar))/len(y_bar)"
      ]
    },
    {
      "cell_type": "code",
      "source": [
        "beta = np.random.random(x_train.shape[1])"
      ],
      "metadata": {
        "id": "rEW-G2P-xKVW"
      },
      "execution_count": 12,
      "outputs": []
    },
    {
      "cell_type": "code",
      "source": [
        "train_y_pred, test_y_pred, theta, error, accuracy, f1score, roc, auc = SGDClassifier(x_train, y_train, x_test, y_test, beta)"
      ],
      "metadata": {
        "colab": {
          "base_uri": "https://localhost:8080/"
        },
        "id": "va8k3jUvyCm6",
        "outputId": "390d39d7-14a7-48be-fc22-cff7d69f5933"
      },
      "execution_count": 13,
      "outputs": [
        {
          "output_type": "stream",
          "name": "stdout",
          "text": [
            "The confusion matrix is \n",
            "[[5275  368]\n",
            " [1288  610]]\n"
          ]
        }
      ]
    },
    {
      "cell_type": "code",
      "source": [
        "print(f'''\n",
        "Estimated coefficients = {theta}\n",
        "Accuracy = {np.round(accuracy[-1]*100, 2)}%\n",
        "F1 score = {f1score[-1]}\n",
        "Error = {error[-1]}\n",
        "ROC AUC Score = {auc}\n",
        "''')"
      ],
      "metadata": {
        "colab": {
          "base_uri": "https://localhost:8080/"
        },
        "id": "UcVuiv_HA2VG",
        "outputId": "a5781b3c-8c12-4019-9681-305e496ab456"
      },
      "execution_count": 14,
      "outputs": [
        {
          "output_type": "stream",
          "name": "stdout",
          "text": [
            "\n",
            "Estimated coefficients = [-1.23250481  2.19903638 -2.67944613 -0.43235064 -2.26116049  3.15858893]\n",
            "Accuracy = 78.04%\n",
            "F1 score = 0.4242002781641169\n",
            "Error = 2.01985791110445e-05\n",
            "ROC AUC Score = 0.7834217706243661\n",
            "\n"
          ]
        }
      ]
    },
    {
      "cell_type": "markdown",
      "metadata": {
        "id": "OQbN5QasfT0C"
      },
      "source": [
        "# Question 4:\n",
        "\n",
        "a) Compare the performance of the model for the selected features from Question 2\n",
        "vs all the features to see what type of differences are there in performance.\n",
        "\n",
        "b) Plot the performance curves of the model on various metrics like accuracy, f1-score,\n",
        "AUC ROC using sklearn metrics.\n",
        "\n",
        "c) Provide some insight into your model performance on some of the given terms with\n",
        "proper explanation.\n",
        "1. Variance (Type of variance model is showing)\n",
        "2. Bias (Type of bias model is showing)\n",
        "3. Overfitting and underfitting (Is the model overfitting or underfitting)"
      ]
    },
    {
      "cell_type": "code",
      "source": [
        "x= df.drop(['income'],axis=1)\n",
        "y = df['income']\n",
        "x_train_1 , x_test_1 , y_train_1 , y_test_1 = train_test_split(x,y,random_state=42,test_size=0.25)"
      ],
      "metadata": {
        "id": "9IiHoEpQfYbE"
      },
      "execution_count": 15,
      "outputs": []
    },
    {
      "cell_type": "code",
      "source": [
        "x_train_1 = pd.DataFrame(MinMaxScaler().fit_transform(x_train_1),\n",
        "                       columns = x_train_1.columns,\n",
        "                       index = x_train_1.index)\n",
        "x_test_1 = pd.DataFrame(MinMaxScaler().fit_transform(x_test_1),\n",
        "                       columns = x_test_1.columns,\n",
        "                       index = x_test_1.index)"
      ],
      "metadata": {
        "id": "IbxxI4kUfqSn"
      },
      "execution_count": 16,
      "outputs": []
    },
    {
      "cell_type": "code",
      "source": [
        "beta_1 = np.random.random(x_train_1.shape[1])"
      ],
      "metadata": {
        "id": "sgYPR2c5f6EC"
      },
      "execution_count": 17,
      "outputs": []
    },
    {
      "cell_type": "code",
      "source": [
        "train_y_pred_1, test_y_pred_1, theta_1, error_1 , accuracy_1, f1score_1, roc_1 , auc_1= SGDClassifier(x_train_1, y_train_1, x_test_1, y_test_1, beta_1)"
      ],
      "metadata": {
        "colab": {
          "base_uri": "https://localhost:8080/"
        },
        "id": "C39vL9Jof-g7",
        "outputId": "89d909ca-0094-46f9-9fb0-782fdca184b7"
      },
      "execution_count": 18,
      "outputs": [
        {
          "output_type": "stream",
          "name": "stdout",
          "text": [
            "The confusion matrix is \n",
            "[[5308  335]\n",
            " [1131  767]]\n"
          ]
        }
      ]
    },
    {
      "cell_type": "code",
      "source": [
        "print(f'''\n",
        "Estimated coefficients = {theta_1}\n",
        "Accuracy = {np.round(accuracy_1[-1]*100, 2)}%\n",
        "F1 score = {f1score_1[-1]}\n",
        "Error = {error_1[-1]}\n",
        "ROC AUC Score = {auc_1}\n",
        "''')"
      ],
      "metadata": {
        "colab": {
          "base_uri": "https://localhost:8080/"
        },
        "id": "V54VvjSkgLz-",
        "outputId": "60c4ef8d-920a-490f-a9fe-0163339b1e92"
      },
      "execution_count": 19,
      "outputs": [
        {
          "output_type": "stream",
          "name": "stdout",
          "text": [
            "\n",
            "Estimated coefficients = [ 1.34268623 -1.24685014 -0.34423041 -0.42238059  3.52154457 -1.99408594\n",
            " -0.1644234  -1.61250096 -0.77122121  0.3467925   3.24239882  2.47324265\n",
            "  0.73258781 -1.92518133]\n",
            "Accuracy = 80.56%\n",
            "F1 score = 0.5113333333333333\n",
            "Error = 1.862405626657759e-05\n",
            "ROC AUC Score = 0.8239441537927479\n",
            "\n"
          ]
        }
      ]
    },
    {
      "cell_type": "code",
      "source": [
        "plt.figure(figsize=(10,5))\n",
        "plt.subplot(1,2,1)\n",
        "plt.plot(accuracy)\n",
        "plt.xlabel(\"Iterations\")\n",
        "plt.ylabel(\"Accuracy\")\n",
        "plt.title(\"Cherry picked features\")\n",
        "\n",
        "plt.subplot(1,2,2)\n",
        "plt.plot(accuracy_1)\n",
        "plt.xlabel(\"Iterations\")\n",
        "plt.ylabel(\"Accuracy\")\n",
        "plt.title(\"All features\")\n",
        "plt.show()"
      ],
      "metadata": {
        "colab": {
          "base_uri": "https://localhost:8080/",
          "height": 350
        },
        "id": "I0R8dLCGhCcU",
        "outputId": "9482e67b-8475-4843-a277-a9dfc2225cfa"
      },
      "execution_count": 20,
      "outputs": [
        {
          "output_type": "display_data",
          "data": {
            "text/plain": [
              "<Figure size 720x360 with 2 Axes>"
            ],
            "image/png": "[encoded data removed]"
          },
          "metadata": {
            "needs_background": "light"
          }
        }
      ]
    },
    {
      "cell_type": "code",
      "source": [
        "plt.figure(figsize=(10,5))\n",
        "plt.subplot(1,2,1)\n",
        "plt.plot(f1score)\n",
        "plt.xlabel(\"Iterations\")\n",
        "plt.ylabel(\"F1-score\")\n",
        "plt.title(\"Cherry picked features\")\n",
        "\n",
        "plt.subplot(1,2,2)\n",
        "plt.plot(f1score_1)\n",
        "plt.xlabel(\"Iterations\")\n",
        "plt.ylabel(\"F1-score\")\n",
        "plt.title(\"All features\")\n",
        "plt.show()"
      ],
      "metadata": {
        "colab": {
          "base_uri": "https://localhost:8080/",
          "height": 350
        },
        "id": "LuDm0q1YjFtw",
        "outputId": "0d486ef6-bbb6-48e0-e1cc-e5e11392b259"
      },
      "execution_count": 21,
      "outputs": [
        {
          "output_type": "display_data",
          "data": {
            "text/plain": [
              "<Figure size 720x360 with 2 Axes>"
            ],
            "image/png": "[encoded data removed]"
          },
          "metadata": {
            "needs_background": "light"
          }
        }
      ]
    },
    {
      "cell_type": "code",
      "source": [
        "plt.figure(figsize=(10,5))\n",
        "plt.subplot(1,2,1)\n",
        "plt.plot(roc[-1][0], roc[-1][1])\n",
        "plt.xlabel(\"False Positive Rate\")\n",
        "plt.ylabel(\"True Positive Rate\")\n",
        "plt.title(\"AUC ROC Curve - Cherry-picked data\")\n",
        "\n",
        "plt.subplot(1,2,2)\n",
        "plt.plot(roc_1[-1][0], roc_1[-1][1])\n",
        "plt.xlabel(\"False Positive Rate\")\n",
        "plt.ylabel(\"True Positive Rate\")\n",
        "plt.title(\"AUC ROC Curve - Original data\")\n",
        "plt.show()"
      ],
      "metadata": {
        "colab": {
          "base_uri": "https://localhost:8080/",
          "height": 350
        },
        "id": "7gRKdkKQkXo7",
        "outputId": "8bc69d03-2976-43d9-d737-57db2ae132bc"
      },
      "execution_count": 22,
      "outputs": [
        {
          "output_type": "display_data",
          "data": {
            "text/plain": [
              "<Figure size 720x360 with 2 Axes>"
            ],
            "image/png": "[encoded data removed]"
          },
          "metadata": {
            "needs_background": "light"
          }
        }
      ]
    },
    {
      "cell_type": "code",
      "source": [
        "variance = np.var(test_y_pred)\n",
        "variance"
      ],
      "metadata": {
        "colab": {
          "base_uri": "https://localhost:8080/"
        },
        "id": "pKOkyg16cptP",
        "outputId": "555bf0b1-020e-4ac2-de54-e0ccb9f84e08"
      },
      "execution_count": 23,
      "outputs": [
        {
          "output_type": "execute_result",
          "data": {
            "text/plain": [
              "0.1128712611168568"
            ]
          },
          "metadata": {},
          "execution_count": 23
        }
      ]
    },
    {
      "cell_type": "code",
      "source": [
        "sse = np.mean((np.mean(test_y_pred)-y_test)**2)\n",
        "sse"
      ],
      "metadata": {
        "colab": {
          "base_uri": "https://localhost:8080/"
        },
        "id": "_VoI6DqXce9o",
        "outputId": "e7806960-46a6-4572-c335-af48cadc59d1"
      },
      "execution_count": 24,
      "outputs": [
        {
          "output_type": "execute_result",
          "data": {
            "text/plain": [
              "0.2032264552242815"
            ]
          },
          "metadata": {},
          "execution_count": 24
        }
      ]
    },
    {
      "cell_type": "code",
      "source": [
        "bias = sse - variance\n",
        "bias"
      ],
      "metadata": {
        "colab": {
          "base_uri": "https://localhost:8080/"
        },
        "id": "Dos0ORAfpDLn",
        "outputId": "6e920ad7-6b79-4f1a-d7fb-6d472ed3da03"
      },
      "execution_count": 25,
      "outputs": [
        {
          "output_type": "execute_result",
          "data": {
            "text/plain": [
              "0.09035519410742471"
            ]
          },
          "metadata": {},
          "execution_count": 25
        }
      ]
    },
    {
      "cell_type": "markdown",
      "source": [
        "The model has low bias as well as low variance. So the model is a good fit."
      ],
      "metadata": {
        "id": "hkKymBJXqmKu"
      }
    }
  ]
}