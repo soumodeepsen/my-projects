{
  "nbformat": 4,
  "nbformat_minor": 0,
  "metadata": {
    "colab": {
      "name": "fcc-sea-level-predictor.ipynb",
      "provenance": [],
      "collapsed_sections": [],
      "authorship_tag": "ABX9TyPlV4IVvQG2TBE09NKB5+cD",
      "include_colab_link": true
    },
    "kernelspec": {
      "name": "python3",
      "display_name": "Python 3"
    },
    "language_info": {
      "name": "python"
    }
  },
  "cells": [
    {
      "cell_type": "markdown",
      "metadata": {
        "id": "view-in-github",
        "colab_type": "text"
      },
      "source": [
        "<a href=\"https://colab.research.google.com/github/soumodeepsen/my-projects/blob/main/fcc_sea_level_predictor.ipynb\" target=\"_parent\"><img src=\"https://colab.research.google.com/assets/colab-badge.svg\" alt=\"Open In Colab\"/></a>"
      ]
    },
    {
      "cell_type": "code",
      "source": [
        "!wget https://raw.githubusercontent.com/soumodeepsen/datasets/main/epa-sea-level.csv"
      ],
      "metadata": {
        "colab": {
          "base_uri": "https://localhost:8080/"
        },
        "id": "VDYj2HCxViBi",
        "outputId": "d3f7080a-c93f-4a40-b7c2-c4530fe33749"
      },
      "execution_count": 1,
      "outputs": [
        {
          "output_type": "stream",
          "name": "stdout",
          "text": [
            "--2022-07-19 12:02:04--  https://raw.githubusercontent.com/soumodeepsen/datasets/main/epa-sea-level.csv\n",
            "Resolving raw.githubusercontent.com (raw.githubusercontent.com)... 185.199.109.133, 185.199.108.133, 185.199.111.133, ...\n",
            "Connecting to raw.githubusercontent.com (raw.githubusercontent.com)|185.199.109.133|:443... connected.\n",
            "HTTP request sent, awaiting response... 200 OK\n",
            "Length: 5912 (5.8K) [text/plain]\n",
            "Saving to: ‘epa-sea-level.csv’\n",
            "\n",
            "\repa-sea-level.csv     0%[                    ]       0  --.-KB/s               \repa-sea-level.csv   100%[===================>]   5.77K  --.-KB/s    in 0s      \n",
            "\n",
            "2022-07-19 12:02:04 (43.2 MB/s) - ‘epa-sea-level.csv’ saved [5912/5912]\n",
            "\n"
          ]
        }
      ]
    },
    {
      "cell_type": "code",
      "execution_count": 6,
      "metadata": {
        "id": "krxyo7WNUu0i"
      },
      "outputs": [],
      "source": [
        "import pandas as pd\n",
        "import matplotlib.pyplot as plt\n",
        "from scipy.stats import linregress\n",
        "\n",
        "def draw_plot():\n",
        "    # Read data from file\n",
        "    data = pd.read_csv('epa-sea-level.csv')\n",
        "\n",
        "    # Create scatter plot\n",
        "    plt.figure(figsize=(5,5))\n",
        "    plt.scatter(x = data['Year'], \n",
        "            y = data['CSIRO Adjusted Sea Level'],\n",
        "            alpha = 1,\n",
        "            s = 5)\n",
        "\n",
        "    # Create first line of best fit\n",
        "    reg = linregress(x = data['Year'],\n",
        "                 y = data['CSIRO Adjusted Sea Level'])\n",
        "    m,c = reg.slope, reg.intercept\n",
        "    X = list(data['Year']) + [i for i in range(2014,2051,1)]\n",
        "    y_fit = [m*x+c for x in X]\n",
        "    plt.plot(X, y_fit, color = 'r')\n",
        "    \n",
        "    # Create second line of best fit\n",
        "    reg1 = linregress(x = data[data['Year'] >= 2000].Year,\n",
        "                 y = data[data['Year'] >= 2000]['CSIRO Adjusted Sea Level'],\n",
        "                 )\n",
        "    m1, c1 = reg1.slope, reg1.intercept\n",
        "    X1 = list(data[data['Year'] >= 2000].Year) + [i for i in range(2014,2051,1)]\n",
        "    y_fit1 = [m1*x+c1 for x in X1]\n",
        "    plt.plot(X1, y_fit1, color = 'b')\n",
        "\n",
        "    # Add labels and title\n",
        "    plt.xlabel('Year')\n",
        "    plt.ylabel('Sea Level (inches)')\n",
        "    plt.title('Rise in Sea Level')\n",
        "    \n",
        "    # Save plot and return data for testing (DO NOT MODIFY)\n",
        "    plt.savefig('sea_level_plot.png')\n",
        "    return plt.gca()"
      ]
    },
    {
      "cell_type": "code",
      "source": [
        "ax = draw_plot()\n",
        "plt.show()"
      ],
      "metadata": {
        "colab": {
          "base_uri": "https://localhost:8080/",
          "height": 350
        },
        "id": "4083pdzJVkW3",
        "outputId": "bb70929d-0d09-4e40-c241-7e176ae54f75"
      },
      "execution_count": 8,
      "outputs": [
        {
          "output_type": "display_data",
          "data": {
            "text/plain": [
              "<Figure size 360x360 with 1 Axes>"
            ],
            "image/png": "[encoded data removed]"
          },
          "metadata": {
            "needs_background": "light"
          }
        }
      ]
    },
    {
      "cell_type": "code",
      "source": [
        "ax.get_title()"
      ],
      "metadata": {
        "colab": {
          "base_uri": "https://localhost:8080/",
          "height": 35
        },
        "id": "EGgtLrcVVpo5",
        "outputId": "b0e9f525-426c-4726-be33-d818c56990aa"
      },
      "execution_count": 9,
      "outputs": [
        {
          "output_type": "execute_result",
          "data": {
            "text/plain": [
              "'Rise in Sea Level'"
            ],
            "application/vnd.google.colaboratory.intrinsic+json": {
              "type": "string"
            }
          },
          "metadata": {},
          "execution_count": 9
        }
      ]
    },
    {
      "cell_type": "code",
      "source": [
        "ax.get_xlabel()"
      ],
      "metadata": {
        "colab": {
          "base_uri": "https://localhost:8080/",
          "height": 35
        },
        "id": "dx3ZildyWIUm",
        "outputId": "cd4289e6-bf23-4bc1-97b5-d1e888cfae8d"
      },
      "execution_count": 10,
      "outputs": [
        {
          "output_type": "execute_result",
          "data": {
            "text/plain": [
              "'Year'"
            ],
            "application/vnd.google.colaboratory.intrinsic+json": {
              "type": "string"
            }
          },
          "metadata": {},
          "execution_count": 10
        }
      ]
    },
    {
      "cell_type": "code",
      "source": [
        "ax.get_xticks().tolist()"
      ],
      "metadata": {
        "colab": {
          "base_uri": "https://localhost:8080/"
        },
        "id": "G1WY9HkyWP2V",
        "outputId": "f45afe21-6aae-4048-b623-a23d6d183a43"
      },
      "execution_count": 11,
      "outputs": [
        {
          "output_type": "execute_result",
          "data": {
            "text/plain": [
              "[1850.0,\n",
              " 1875.0,\n",
              " 1900.0,\n",
              " 1925.0,\n",
              " 1950.0,\n",
              " 1975.0,\n",
              " 2000.0,\n",
              " 2025.0,\n",
              " 2050.0,\n",
              " 2075.0]"
            ]
          },
          "metadata": {},
          "execution_count": 11
        }
      ]
    },
    {
      "cell_type": "code",
      "source": [
        "ax.get_children()[0].get_offsets().data.tolist()"
      ],
      "metadata": {
        "colab": {
          "base_uri": "https://localhost:8080/"
        },
        "id": "e6Ixty9mWVu7",
        "outputId": "175485ad-ed9b-4d52-8e78-e6c87fb439cb"
      },
      "execution_count": 12,
      "outputs": [
        {
          "output_type": "execute_result",
          "data": {
            "text/plain": [
              "[[1880.0, 0.0],\n",
              " [1881.0, 0.220472441],\n",
              " [1882.0, -0.440944881],\n",
              " [1883.0, -0.232283464],\n",
              " [1884.0, 0.590551181],\n",
              " [1885.0, 0.531496062],\n",
              " [1886.0, 0.437007874],\n",
              " [1887.0, 0.216535433],\n",
              " [1888.0, 0.299212598],\n",
              " [1889.0, 0.362204724],\n",
              " [1890.0, 0.440944881],\n",
              " [1891.0, 0.374015748],\n",
              " [1892.0, 0.499999999],\n",
              " [1893.0, 0.685039369],\n",
              " [1894.0, 0.303149606],\n",
              " [1895.0, 0.767716535],\n",
              " [1896.0, 0.468503937],\n",
              " [1897.0, 0.673228346],\n",
              " [1898.0, 1.043307086],\n",
              " [1899.0, 1.338582676],\n",
              " [1900.0, 1.125984251],\n",
              " [1901.0, 1.110236219],\n",
              " [1902.0, 1.291338581],\n",
              " [1903.0, 1.606299211],\n",
              " [1904.0, 1.2007874],\n",
              " [1905.0, 0.984251968],\n",
              " [1906.0, 1.251968503],\n",
              " [1907.0, 1.196850392],\n",
              " [1908.0, 1.098425196],\n",
              " [1909.0, 1.27559055],\n",
              " [1910.0, 1.271653542],\n",
              " [1911.0, 1.598425195],\n",
              " [1912.0, 1.476377951],\n",
              " [1913.0, 1.547244093],\n",
              " [1914.0, 1.795275589],\n",
              " [1915.0, 2.10629921],\n",
              " [1916.0, 2.031496061],\n",
              " [1917.0, 1.854330707],\n",
              " [1918.0, 1.791338581],\n",
              " [1919.0, 1.854330707],\n",
              " [1920.0, 1.905511809],\n",
              " [1921.0, 1.988188974],\n",
              " [1922.0, 1.952755904],\n",
              " [1923.0, 1.999999998],\n",
              " [1924.0, 1.712598423],\n",
              " [1925.0, 1.791338581],\n",
              " [1926.0, 2.047244092],\n",
              " [1927.0, 2.003937006],\n",
              " [1928.0, 1.850393699],\n",
              " [1929.0, 1.905511809],\n",
              " [1930.0, 2.062992124],\n",
              " [1931.0, 2.047244092],\n",
              " [1932.0, 2.271653541],\n",
              " [1933.0, 2.440944879],\n",
              " [1934.0, 2.228346454],\n",
              " [1935.0, 2.448818895],\n",
              " [1936.0, 2.295275588],\n",
              " [1937.0, 2.519685037],\n",
              " [1938.0, 2.622047241],\n",
              " [1939.0, 2.826771651],\n",
              " [1940.0, 2.618110234],\n",
              " [1941.0, 3.098425194],\n",
              " [1942.0, 3.098425194],\n",
              " [1943.0, 3.098425194],\n",
              " [1944.0, 2.84645669],\n",
              " [1945.0, 2.95669291],\n",
              " [1946.0, 3.251968501],\n",
              " [1947.0, 3.374015745],\n",
              " [1948.0, 3.562992122],\n",
              " [1949.0, 3.51181102],\n",
              " [1950.0, 3.598425193],\n",
              " [1951.0, 3.972440941],\n",
              " [1952.0, 3.870078736],\n",
              " [1953.0, 4.043307082],\n",
              " [1954.0, 3.929133854],\n",
              " [1955.0, 3.964566925],\n",
              " [1956.0, 3.763779524],\n",
              " [1957.0, 4.291338578],\n",
              " [1958.0, 4.346456688],\n",
              " [1959.0, 4.358267712],\n",
              " [1960.0, 4.503937003],\n",
              " [1961.0, 4.748031491],\n",
              " [1962.0, 4.543307082],\n",
              " [1963.0, 4.480314956],\n",
              " [1964.0, 4.169291334],\n",
              " [1965.0, 4.610236216],\n",
              " [1966.0, 4.397637791],\n",
              " [1967.0, 4.452755901],\n",
              " [1968.0, 4.484251964],\n",
              " [1969.0, 4.751968499],\n",
              " [1970.0, 4.67716535],\n",
              " [1971.0, 4.881889759],\n",
              " [1972.0, 5.240157475],\n",
              " [1973.0, 5.003937003],\n",
              " [1974.0, 5.472440939],\n",
              " [1975.0, 5.409448813],\n",
              " [1976.0, 5.370078735],\n",
              " [1977.0, 5.303149601],\n",
              " [1978.0, 5.555118105],\n",
              " [1979.0, 5.362204719],\n",
              " [1980.0, 5.598425191],\n",
              " [1981.0, 6.086614167],\n",
              " [1982.0, 5.858267711],\n",
              " [1983.0, 6.188976372],\n",
              " [1984.0, 6.153543301],\n",
              " [1985.0, 5.74803149],\n",
              " [1986.0, 5.771653537],\n",
              " [1987.0, 5.795275585],\n",
              " [1988.0, 5.980314955],\n",
              " [1989.0, 6.157480309],\n",
              " [1990.0, 6.232283458],\n",
              " [1991.0, 6.334645663],\n",
              " [1992.0, 6.35826771],\n",
              " [1993.0, 6.291338576],\n",
              " [1994.0, 6.499999993],\n",
              " [1995.0, 6.618110229],\n",
              " [1996.0, 6.787401568],\n",
              " [1997.0, 7.066929127],\n",
              " [1998.0, 6.665354324],\n",
              " [1999.0, 7.011811016],\n",
              " [2000.0, 7.062992119],\n",
              " [2001.0, 7.287401567],\n",
              " [2002.0, 7.381889756],\n",
              " [2003.0, 7.759842512],\n",
              " [2004.0, 7.740157472],\n",
              " [2005.0, 7.74409448],\n",
              " [2006.0, 7.917322827],\n",
              " [2007.0, 7.996062984],\n",
              " [2008.0, 8.350393692],\n",
              " [2009.0, 8.586614164],\n",
              " [2010.0, 8.901574794],\n",
              " [2011.0, 8.96456692],\n",
              " [2012.0, 9.326771644],\n",
              " [2013.0, 8.980314951]]"
            ]
          },
          "metadata": {},
          "execution_count": 12
        }
      ]
    },
    {
      "cell_type": "code",
      "source": [
        "ax.get_lines()[0].get_ydata().tolist()"
      ],
      "metadata": {
        "colab": {
          "base_uri": "https://localhost:8080/"
        },
        "id": "TKKgm31KWZpA",
        "outputId": "287cca17-ef4f-49ec-e110-f9854d981e51"
      },
      "execution_count": 13,
      "outputs": [
        {
          "output_type": "execute_result",
          "data": {
            "text/plain": [
              "[-0.5421240249263661,\n",
              " -0.4790794409142336,\n",
              " -0.41603485690208686,\n",
              " -0.3529902728899543,\n",
              " -0.2899456888778218,\n",
              " -0.22690110486568926,\n",
              " -0.16385652085355673,\n",
              " -0.1008119368414242,\n",
              " -0.037767352829277456,\n",
              " 0.025277231182855076,\n",
              " 0.08832181519498761,\n",
              " 0.15136639920712014,\n",
              " 0.21441098321925267,\n",
              " 0.2774555672313852,\n",
              " 0.34050015124351773,\n",
              " 0.4035447352556645,\n",
              " 0.466589319267797,\n",
              " 0.5296339032799295,\n",
              " 0.5926784872920621,\n",
              " 0.6557230713041946,\n",
              " 0.7187676553163271,\n",
              " 0.7818122393284739,\n",
              " 0.8448568233406064,\n",
              " 0.9079014073527389,\n",
              " 0.9709459913648715,\n",
              " 1.033990575377004,\n",
              " 1.0970351593891365,\n",
              " 1.1600797434012833,\n",
              " 1.2231243274134158,\n",
              " 1.2861689114255483,\n",
              " 1.3492134954376809,\n",
              " 1.4122580794498134,\n",
              " 1.475302663461946,\n",
              " 1.5383472474740927,\n",
              " 1.6013918314862252,\n",
              " 1.6644364154983577,\n",
              " 1.7274809995104903,\n",
              " 1.7905255835226228,\n",
              " 1.8535701675347553,\n",
              " 1.9166147515468879,\n",
              " 1.9796593355590346,\n",
              " 2.042703919571167,\n",
              " 2.1057485035832997,\n",
              " 2.168793087595432,\n",
              " 2.2318376716075647,\n",
              " 2.2948822556196973,\n",
              " 2.357926839631844,\n",
              " 2.4209714236439766,\n",
              " 2.484016007656109,\n",
              " 2.5470605916682416,\n",
              " 2.610105175680374,\n",
              " 2.6731497596925067,\n",
              " 2.7361943437046534,\n",
              " 2.799238927716786,\n",
              " 2.8622835117289185,\n",
              " 2.925328095741051,\n",
              " 2.9883726797531835,\n",
              " 3.051417263765316,\n",
              " 3.1144618477774486,\n",
              " 3.1775064317895954,\n",
              " 3.240551015801728,\n",
              " 3.3035955998138604,\n",
              " 3.366640183825993,\n",
              " 3.4296847678381255,\n",
              " 3.492729351850258,\n",
              " 3.5557739358624048,\n",
              " 3.6188185198745373,\n",
              " 3.68186310388667,\n",
              " 3.7449076878988024,\n",
              " 3.807952271910935,\n",
              " 3.8709968559230674,\n",
              " 3.934041439935214,\n",
              " 3.9970860239473467,\n",
              " 4.060130607959479,\n",
              " 4.123175191971612,\n",
              " 4.186219775983744,\n",
              " 4.249264359995877,\n",
              " 4.312308944008024,\n",
              " 4.375353528020156,\n",
              " 4.438398112032289,\n",
              " 4.501442696044421,\n",
              " 4.564487280056554,\n",
              " 4.627531864068686,\n",
              " 4.690576448080819,\n",
              " 4.7536210320929655,\n",
              " 4.816665616105098,\n",
              " 4.879710200117231,\n",
              " 4.942754784129363,\n",
              " 5.005799368141496,\n",
              " 5.068843952153628,\n",
              " 5.131888536165775,\n",
              " 5.194933120177907,\n",
              " 5.25797770419004,\n",
              " 5.3210222882021725,\n",
              " 5.384066872214305,\n",
              " 5.4471114562264376,\n",
              " 5.510156040238584,\n",
              " 5.573200624250717,\n",
              " 5.636245208262849,\n",
              " 5.699289792274982,\n",
              " 5.762334376287114,\n",
              " 5.825378960299247,\n",
              " 5.8884235443113795,\n",
              " 5.951468128323526,\n",
              " 6.014512712335659,\n",
              " 6.077557296347791,\n",
              " 6.140601880359924,\n",
              " 6.203646464372056,\n",
              " 6.266691048384189,\n",
              " 6.329735632396336,\n",
              " 6.392780216408468,\n",
              " 6.455824800420601,\n",
              " 6.518869384432733,\n",
              " 6.581913968444866,\n",
              " 6.644958552456998,\n",
              " 6.708003136469145,\n",
              " 6.771047720481278,\n",
              " 6.83409230449341,\n",
              " 6.897136888505543,\n",
              " 6.960181472517675,\n",
              " 7.023226056529808,\n",
              " 7.086270640541954,\n",
              " 7.149315224554087,\n",
              " 7.2123598085662195,\n",
              " 7.275404392578352,\n",
              " 7.338448976590485,\n",
              " 7.401493560602617,\n",
              " 7.46453814461475,\n",
              " 7.527582728626896,\n",
              " 7.590627312639029,\n",
              " 7.653671896651161,\n",
              " 7.716716480663294,\n",
              " 7.7797610646754265,\n",
              " 7.842805648687559,\n",
              " 7.905850232699706,\n",
              " 7.968894816711838,\n",
              " 8.03193940072397,\n",
              " 8.094983984736103,\n",
              " 8.158028568748236,\n",
              " 8.221073152760368,\n",
              " 8.284117736772515,\n",
              " 8.347162320784648,\n",
              " 8.41020690479678,\n",
              " 8.473251488808913,\n",
              " 8.536296072821045,\n",
              " 8.599340656833178,\n",
              " 8.66238524084531,\n",
              " 8.725429824857457,\n",
              " 8.78847440886959,\n",
              " 8.851518992881722,\n",
              " 8.914563576893855,\n",
              " 8.977608160905987,\n",
              " 9.040652744918134,\n",
              " 9.103697328930252,\n",
              " 9.166741912942399,\n",
              " 9.229786496954517,\n",
              " 9.292831080966664,\n",
              " 9.35587566497881,\n",
              " 9.41892024899093,\n",
              " 9.481964833003076,\n",
              " 9.545009417015194,\n",
              " 9.608054001027341,\n",
              " 9.671098585039488,\n",
              " 9.734143169051606,\n",
              " 9.797187753063753,\n",
              " 9.860232337075871,\n",
              " 9.923276921088018,\n",
              " 9.986321505100136,\n",
              " 10.049366089112283,\n",
              " 10.11241067312443,\n",
              " 10.175455257136548]"
            ]
          },
          "metadata": {},
          "execution_count": 13
        }
      ]
    },
    {
      "cell_type": "code",
      "source": [
        "ax.get_lines()[1].get_ydata().tolist()"
      ],
      "metadata": {
        "colab": {
          "base_uri": "https://localhost:8080/"
        },
        "id": "JruZGkLHWd3N",
        "outputId": "d504da29-e94e-4288-f427-7d08fbd03c32"
      },
      "execution_count": 14,
      "outputs": [
        {
          "output_type": "execute_result",
          "data": {
            "text/plain": [
              "[7.06107985777146,\n",
              " 7.227507131103323,\n",
              " 7.393934404435186,\n",
              " 7.560361677767105,\n",
              " 7.726788951098968,\n",
              " 7.89321622443083,\n",
              " 8.059643497762693,\n",
              " 8.226070771094555,\n",
              " 8.392498044426418,\n",
              " 8.55892531775828,\n",
              " 8.725352591090143,\n",
              " 8.891779864422006,\n",
              " 9.058207137753868,\n",
              " 9.224634411085788,\n",
              " 9.39106168441765,\n",
              " 9.557488957749513,\n",
              " 9.723916231081375,\n",
              " 9.890343504413238,\n",
              " 10.0567707777451,\n",
              " 10.223198051076963,\n",
              " 10.389625324408826,\n",
              " 10.556052597740688,\n",
              " 10.72247987107255,\n",
              " 10.88890714440447,\n",
              " 11.055334417736333,\n",
              " 11.221761691068195,\n",
              " 11.388188964400058,\n",
              " 11.55461623773192,\n",
              " 11.721043511063783,\n",
              " 11.887470784395646,\n",
              " 12.053898057727508,\n",
              " 12.220325331059371,\n",
              " 12.386752604391233,\n",
              " 12.553179877723153,\n",
              " 12.719607151055015,\n",
              " 12.886034424386878,\n",
              " 13.05246169771874,\n",
              " 13.218888971050603,\n",
              " 13.385316244382466,\n",
              " 13.551743517714328,\n",
              " 13.718170791046191,\n",
              " 13.884598064378054,\n",
              " 14.051025337709916,\n",
              " 14.217452611041836,\n",
              " 14.383879884373698,\n",
              " 14.55030715770556,\n",
              " 14.716734431037423,\n",
              " 14.883161704369286,\n",
              " 15.049588977701148,\n",
              " 15.216016251033011,\n",
              " 15.382443524364874]"
            ]
          },
          "metadata": {},
          "execution_count": 14
        }
      ]
    }
  ]
}