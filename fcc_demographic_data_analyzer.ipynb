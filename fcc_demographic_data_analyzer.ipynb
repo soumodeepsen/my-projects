{
  "nbformat": 4,
  "nbformat_minor": 0,
  "metadata": {
    "colab": {
      "name": "fcc_demographic_data_analyzer.ipynb",
      "provenance": [],
      "collapsed_sections": [],
      "authorship_tag": "ABX9TyPEbi7/ZwMq4tHfrnYvz9LP",
      "include_colab_link": true
    },
    "kernelspec": {
      "name": "python3",
      "display_name": "Python 3"
    },
    "language_info": {
      "name": "python"
    }
  },
  "cells": [
    {
      "cell_type": "markdown",
      "metadata": {
        "id": "view-in-github",
        "colab_type": "text"
      },
      "source": [
        "<a href=\"https://colab.research.google.com/github/soumodeepsen/my-projects/blob/main/fcc_demographic_data_analyzer.ipynb\" target=\"_parent\"><img src=\"https://colab.research.google.com/assets/colab-badge.svg\" alt=\"Open In Colab\"/></a>"
      ]
    },
    {
      "cell_type": "markdown",
      "source": [
        "# Assignment\n",
        "\n",
        "# Demographic Data Analyzer\n",
        "\n",
        "In this challenge you must analyze demographic data using Pandas. You are given a dataset of demographic data that was extracted from the 1994 Census database. Here is a sample of what the data looks like:\n",
        "\n",
        "|    |   age | workclass        |   fnlwgt | education   |   education-num | marital-status     | occupation        | relationship   | race   | sex    |   capital-gain |   capital-loss |   hours-per-week | native-country   | salary   |\n",
        "|---:|------:|:-----------------|---------:|:------------|----------------:|:-------------------|:------------------|:---------------|:-------|:-------|---------------:|---------------:|-----------------:|:-----------------|:---------|\n",
        "|  0 |    39 | State-gov        |    77516 | Bachelors   |              13 | Never-married      | Adm-clerical      | Not-in-family  | White  | Male   |           2174 |              0 |               40 | United-States    | <=50K    |\n",
        "|  1 |    50 | Self-emp-not-inc |    83311 | Bachelors   |              13 | Married-civ-spouse | Exec-managerial   | Husband        | White  | Male   |              0 |              0 |               13 | United-States    | <=50K    |\n",
        "|  2 |    38 | Private          |   215646 | HS-grad     |               9 | Divorced           | Handlers-cleaners | Not-in-family  | White  | Male   |              0 |              0 |               40 | United-States    | <=50K    |\n",
        "|  3 |    53 | Private          |   234721 | 11th        |               7 | Married-civ-spouse | Handlers-cleaners | Husband        | Black  | Male   |              0 |              0 |               40 | United-States    | <=50K    |\n",
        "|  4 |    28 | Private          |   338409 | Bachelors   |              13 | Married-civ-spouse | Prof-specialty    | Wife           | Black  | Female |              0 |              0 |               40 | Cuba             | <=50K    |\n",
        "\n",
        "\n",
        "You must use Pandas to answer the following questions:\n",
        "* How many people of each race are represented in this dataset? This should be a Pandas series with race names as the index labels. (`race` column)\n",
        "* What is the average age of men?\n",
        "* What is the percentage of people who have a Bachelor's degree?\n",
        "* What percentage of people with advanced education (`Bachelors`, `Masters`, or `Doctorate`) make more than 50K?\n",
        "* What percentage of people without advanced education make more than 50K?\n",
        "* What is the minimum number of hours a person works per week?\n",
        "* What percentage of the people who work the minimum number of hours per week have a salary of more than 50K?\n",
        "* What country has the highest percentage of people that earn >50K and what is that percentage?\n",
        "* Identify the most popular occupation for those who earn >50K in India. \n",
        "\n",
        "Use the starter code in the file `demographic_data_analyzer`. Update the code so all variables set to \"None\" are set to the appropriate calculation or code. Round all decimals to the nearest tenth.\n",
        "\n",
        "Unit tests are written for you under `test_module.py`.\n",
        "\n",
        "### Development\n",
        "\n",
        "For development, you can use `main.py` to test your functions. Click the \"run\" button and `main.py` will run.\n",
        "\n",
        "### Testing \n",
        "\n",
        "We imported the tests from `test_module.py` to `main.py` for your convenience. The tests will run automatically whenever you hit the \"run\" button.\n",
        "\n",
        "### Submitting\n",
        "\n",
        "Copy your project's URL and submit it to freeCodeCamp.\n",
        "\n",
        "### Dataset Source\n",
        "\n",
        "Dua, D. and Graff, C. (2019). UCI Machine Learning Repository [http://archive.ics.uci.edu/ml]. Irvine, CA: University of California, School of Information and Computer Science."
      ],
      "metadata": {
        "id": "vVN85hEYTY7w"
      }
    },
    {
      "cell_type": "code",
      "source": [
        "!wget https://raw.githubusercontent.com/soumodeepsen/datasets/main/adult.data.csv"
      ],
      "metadata": {
        "colab": {
          "base_uri": "https://localhost:8080/"
        },
        "id": "bMyYmfilcyKJ",
        "outputId": "6559c3dc-f0b6-49e0-ba3e-e5f0391c2dd3"
      },
      "execution_count": null,
      "outputs": [
        {
          "output_type": "stream",
          "name": "stdout",
          "text": [
            "--2022-07-19 07:59:50--  https://raw.githubusercontent.com/soumodeepsen/my-projects/main/adult.data.csv\n",
            "Resolving raw.githubusercontent.com (raw.githubusercontent.com)... 185.199.108.133, 185.199.109.133, 185.199.110.133, ...\n",
            "Connecting to raw.githubusercontent.com (raw.githubusercontent.com)|185.199.108.133|:443... connected.\n",
            "HTTP request sent, awaiting response... 200 OK\n",
            "Length: 3518607 (3.4M) [text/plain]\n",
            "Saving to: ‘adult.data.csv.1’\n",
            "\n",
            "\radult.data.csv.1      0%[                    ]       0  --.-KB/s               \radult.data.csv.1    100%[===================>]   3.36M  --.-KB/s    in 0.07s   \n",
            "\n",
            "2022-07-19 07:59:50 (49.2 MB/s) - ‘adult.data.csv.1’ saved [3518607/3518607]\n",
            "\n"
          ]
        }
      ]
    },
    {
      "cell_type": "code",
      "execution_count": null,
      "metadata": {
        "id": "KxNc1NBOsU-3"
      },
      "outputs": [],
      "source": [
        "from IPython.core.display import clear_output\n",
        "import pandas as pd\n",
        "\n",
        "def calculate_demographic_data(print_data=True):\n",
        "    # Read data from file\n",
        "    df = pd.read_csv(\"adult.data.csv\")\n",
        "\n",
        "    # How many of each race are represented in this dataset? This should be a Pandas series with race names as the index labels.\n",
        "    race_count = pd.Series(df['race']).value_counts()\n",
        "\n",
        "    # What is the average age of men?\n",
        "    average_age_men = round(df[df['sex'] == 'Male']['age'].mean(), 1)\n",
        "\n",
        "    # What is the percentage of people who have a Bachelor's degree?\n",
        "    percentage_bachelors = round(len(df[df['education']==\"Bachelors\"])/len(df)*100,1)\n",
        "\n",
        "    # What percentage of people with advanced education (`Bachelors`, `Masters`, or `Doctorate`) make more than 50K?\n",
        "    # What percentage of people without advanced education make more than 50K?\n",
        "  \n",
        "    # with and without `Bachelors`, `Masters`, or `Doctorate`\n",
        "    higher_education = df[df['education'].isin(['Bachelors','Masters','Doctorate'])]\n",
        "    lower_education = df[~df['education'].isin(['Bachelors','Masters','Doctorate'])]\n",
        "\n",
        "    # percentage with salary >50K\n",
        "    higher_education_rich =round(len(higher_education[higher_education['salary'] == '>50K'])/len(higher_education)*100,1)\n",
        "    lower_education_rich =round(len(lower_education[lower_education['salary'] == '>50K'])/len(lower_education)*100,1)\n",
        "\n",
        "    # What is the minimum number of hours a person works per week (hours-per-week feature)?\n",
        "    min_work_hours = df['hours-per-week'].min()\n",
        "\n",
        "    # What percentage of the people who work the minimum number of hours per week have a salary of >50K?\n",
        "    num_min_workers = df[df['hours-per-week'] == min_work_hours]\n",
        "\n",
        "    rich_percentage = round(len(num_min_workers[num_min_workers['salary'] == '>50K'])/len(num_min_workers)*100,1)\n",
        "\n",
        "    # What country has the highest percentage of people that earn >50K?\n",
        "    highest_earning_list = round(df[df['salary']=='>50K'].value_counts(df['native-country'])/df.value_counts(df['native-country'])*100,1)\n",
        "    highest_earning_country = highest_earning_list.idxmax()\n",
        "    highest_earning_country_percentage=round(highest_earning_list.max(),1)\n",
        "\n",
        "    # Identify the most popular occupation for those who earn >50K in India.\n",
        "    top_IN_occupation = df.loc[(df['native-country'] == 'India') & (df['salary'] == '>50K')].value_counts(df['occupation']).idxmax()\n",
        "\n",
        "    # DO NOT MODIFY BELOW THIS LINE\n",
        "\n",
        "    if print_data:\n",
        "        print(\"Number of each race:\\n\", race_count) \n",
        "        print(\"Average age of men:\", average_age_men)\n",
        "        print(f\"Percentage with Bachelors degrees: {percentage_bachelors}%\")\n",
        "        print(f\"Percentage with higher education that earn >50K: {higher_education_rich}%\")\n",
        "        print(f\"Percentage without higher education that earn >50K: {lower_education_rich}%\")\n",
        "        print(f\"Min work time: {min_work_hours} hours/week\")\n",
        "        print(f\"Percentage of rich among those who work fewest hours: {rich_percentage}%\")\n",
        "        print(\"Country with highest percentage of rich:\", highest_earning_country)\n",
        "        print(f\"Highest percentage of rich people in country: {highest_earning_country_percentage}%\")\n",
        "        print(\"Top occupations in India:\", top_IN_occupation)\n",
        "\n",
        "    return {\n",
        "        'race_count': race_count,\n",
        "        'average_age_men': average_age_men,\n",
        "        'percentage_bachelors': percentage_bachelors,\n",
        "        'higher_education_rich': higher_education_rich,\n",
        "        'lower_education_rich': lower_education_rich,\n",
        "        'min_work_hours': min_work_hours,\n",
        "        'rich_percentage': rich_percentage,\n",
        "        'highest_earning_country': highest_earning_country,\n",
        "        'highest_earning_country_percentage':\n",
        "        highest_earning_country_percentage,\n",
        "        'top_IN_occupation': top_IN_occupation\n",
        "    }\n",
        "\n",
        "clear_output()"
      ]
    },
    {
      "cell_type": "code",
      "source": [
        "data = calculate_demographic_data()"
      ],
      "metadata": {
        "colab": {
          "base_uri": "https://localhost:8080/"
        },
        "id": "PhEkbUs4bHtp",
        "outputId": "a85b50c9-d16e-479a-918c-87de454cffeb"
      },
      "execution_count": null,
      "outputs": [
        {
          "output_type": "stream",
          "name": "stdout",
          "text": [
            "Number of each race:\n",
            " White                 27816\n",
            "Black                  3124\n",
            "Asian-Pac-Islander     1039\n",
            "Amer-Indian-Eskimo      311\n",
            "Other                   271\n",
            "Name: race, dtype: int64\n",
            "Average age of men: 39.4\n",
            "Percentage with Bachelors degrees: 16.4%\n",
            "Percentage with higher education that earn >50K: 46.5%\n",
            "Percentage without higher education that earn >50K: 17.4%\n",
            "Min work time: 1 hours/week\n",
            "Percentage of rich among those who work fewest hours: 10.0%\n",
            "Country with highest percentage of rich: Iran\n",
            "Highest percentage of rich people in country: 41.9%\n",
            "Top occupations in India: Prof-specialty\n"
          ]
        }
      ]
    },
    {
      "cell_type": "code",
      "source": [
        "calculate_demographic_data(False)"
      ],
      "metadata": {
        "colab": {
          "base_uri": "https://localhost:8080/"
        },
        "id": "Lb1_eHmdanvr",
        "outputId": "ec47320c-b6de-4e22-d5d7-31207fbcb9d8"
      },
      "execution_count": null,
      "outputs": [
        {
          "output_type": "execute_result",
          "data": {
            "text/plain": [
              "{'average_age_men': 39.4,\n",
              " 'higher_education_rich': 46.5,\n",
              " 'highest_earning_country': 'Iran',\n",
              " 'highest_earning_country_percentage': 41.9,\n",
              " 'lower_education_rich': 17.4,\n",
              " 'min_work_hours': 1,\n",
              " 'percentage_bachelors': 16.4,\n",
              " 'race_count': White                 27816\n",
              " Black                  3124\n",
              " Asian-Pac-Islander     1039\n",
              " Amer-Indian-Eskimo      311\n",
              " Other                   271\n",
              " Name: race, dtype: int64,\n",
              " 'rich_percentage': 10.0,\n",
              " 'top_IN_occupation': 'Prof-specialty'}"
            ]
          },
          "metadata": {},
          "execution_count": 18
        }
      ]
    },
    {
      "cell_type": "markdown",
      "source": [
        "**Expected race count values to be [27816, 3124, 1039, 311, 271]**"
      ],
      "metadata": {
        "id": "MzzPFjnRT7KF"
      }
    },
    {
      "cell_type": "code",
      "source": [
        "calculate_demographic_data(False)['race_count']"
      ],
      "metadata": {
        "colab": {
          "base_uri": "https://localhost:8080/"
        },
        "id": "-OltLKc8Thx-",
        "outputId": "8623d5f0-a839-4dde-dbe3-5df1a7a2c187"
      },
      "execution_count": null,
      "outputs": [
        {
          "output_type": "execute_result",
          "data": {
            "text/plain": [
              "White                 27816\n",
              "Black                  3124\n",
              "Asian-Pac-Islander     1039\n",
              "Amer-Indian-Eskimo      311\n",
              "Other                   271\n",
              "Name: race, dtype: int64"
            ]
          },
          "metadata": {},
          "execution_count": 19
        }
      ]
    },
    {
      "cell_type": "markdown",
      "source": [
        "**Expected average age of men = 39.4**"
      ],
      "metadata": {
        "id": "NdInaz36UEK3"
      }
    },
    {
      "cell_type": "code",
      "source": [
        "calculate_demographic_data(False)['average_age_men']"
      ],
      "metadata": {
        "id": "wMOkFG0GUHp-",
        "colab": {
          "base_uri": "https://localhost:8080/"
        },
        "outputId": "116d26ac-4ea4-48c5-f229-7079c2661ec1"
      },
      "execution_count": null,
      "outputs": [
        {
          "output_type": "execute_result",
          "data": {
            "text/plain": [
              "39.4"
            ]
          },
          "metadata": {},
          "execution_count": 20
        }
      ]
    },
    {
      "cell_type": "markdown",
      "source": [
        "**Expected value for percentage with Bachelors degrees = 16.4**"
      ],
      "metadata": {
        "id": "nVQZbIOEULu2"
      }
    },
    {
      "cell_type": "code",
      "source": [
        "calculate_demographic_data(False)['percentage_bachelors']"
      ],
      "metadata": {
        "id": "CrvRz08YUQAF",
        "colab": {
          "base_uri": "https://localhost:8080/"
        },
        "outputId": "454e63d2-8d5a-44fd-bdb2-022ffcf9f558"
      },
      "execution_count": null,
      "outputs": [
        {
          "output_type": "execute_result",
          "data": {
            "text/plain": [
              "16.4"
            ]
          },
          "metadata": {},
          "execution_count": 21
        }
      ]
    },
    {
      "cell_type": "markdown",
      "source": [
        "**Expected value for percentage with higher education that earn >50K = 46.5**"
      ],
      "metadata": {
        "id": "qL2ncXSKUSYu"
      }
    },
    {
      "cell_type": "code",
      "source": [
        "calculate_demographic_data(False)['higher_education_rich']"
      ],
      "metadata": {
        "id": "qT-rif-PUQ3W",
        "colab": {
          "base_uri": "https://localhost:8080/"
        },
        "outputId": "35d162ba-cdce-4934-8e13-72e5374717b9"
      },
      "execution_count": null,
      "outputs": [
        {
          "output_type": "execute_result",
          "data": {
            "text/plain": [
              "46.5"
            ]
          },
          "metadata": {},
          "execution_count": 22
        }
      ]
    },
    {
      "cell_type": "markdown",
      "source": [
        "**Expected value for percentage without higher education that earn >50K = 17.4**"
      ],
      "metadata": {
        "id": "e-Zz6rVDUcrQ"
      }
    },
    {
      "cell_type": "code",
      "source": [
        "calculate_demographic_data(False)['lower_education_rich']"
      ],
      "metadata": {
        "id": "SwTRIWWcUknm",
        "colab": {
          "base_uri": "https://localhost:8080/"
        },
        "outputId": "21c56fb0-1427-4d64-dcc9-88739b75c11d"
      },
      "execution_count": null,
      "outputs": [
        {
          "output_type": "execute_result",
          "data": {
            "text/plain": [
              "17.4"
            ]
          },
          "metadata": {},
          "execution_count": 23
        }
      ]
    },
    {
      "cell_type": "markdown",
      "source": [
        "**Expected value for minimum work hours = 1**"
      ],
      "metadata": {
        "id": "FOmWyZZmUljl"
      }
    },
    {
      "cell_type": "code",
      "source": [
        "calculate_demographic_data(False)['min_work_hours']"
      ],
      "metadata": {
        "id": "gLdE1l5pU70c",
        "colab": {
          "base_uri": "https://localhost:8080/"
        },
        "outputId": "68205e00-efe4-4358-b848-aa9f95625832"
      },
      "execution_count": null,
      "outputs": [
        {
          "output_type": "execute_result",
          "data": {
            "text/plain": [
              "1"
            ]
          },
          "metadata": {},
          "execution_count": 24
        }
      ]
    },
    {
      "cell_type": "markdown",
      "source": [
        "**Expected value for percentage of rich among those who work fewest hours = 10**"
      ],
      "metadata": {
        "id": "m9uQscGgU8ie"
      }
    },
    {
      "cell_type": "code",
      "source": [
        "calculate_demographic_data(False)['rich_percentage']"
      ],
      "metadata": {
        "id": "aB0Gy8I9VEOM",
        "colab": {
          "base_uri": "https://localhost:8080/"
        },
        "outputId": "7c811f63-da02-482a-bc34-19496d9afdea"
      },
      "execution_count": null,
      "outputs": [
        {
          "output_type": "execute_result",
          "data": {
            "text/plain": [
              "10.0"
            ]
          },
          "metadata": {},
          "execution_count": 25
        }
      ]
    },
    {
      "cell_type": "markdown",
      "source": [
        "**Expected value for highest earning country = Iran**"
      ],
      "metadata": {
        "id": "ay-yTy2sVE-e"
      }
    },
    {
      "cell_type": "code",
      "source": [
        "calculate_demographic_data(False)['highest_earning_country']"
      ],
      "metadata": {
        "id": "7UrhaZRlVLiR",
        "colab": {
          "base_uri": "https://localhost:8080/",
          "height": 35
        },
        "outputId": "5e7a8fb2-cd50-4583-8b82-f645cf953544"
      },
      "execution_count": null,
      "outputs": [
        {
          "output_type": "execute_result",
          "data": {
            "text/plain": [
              "'Iran'"
            ],
            "application/vnd.google.colaboratory.intrinsic+json": {
              "type": "string"
            }
          },
          "metadata": {},
          "execution_count": 26
        }
      ]
    },
    {
      "cell_type": "markdown",
      "source": [
        "**Expected value for highest earning country percentage = 41.9**"
      ],
      "metadata": {
        "id": "hLGTOYWJVXtc"
      }
    },
    {
      "cell_type": "code",
      "source": [
        "calculate_demographic_data(False)['highest_earning_country_percentage']"
      ],
      "metadata": {
        "colab": {
          "base_uri": "https://localhost:8080/"
        },
        "id": "lgP0h6O8cRtn",
        "outputId": "8ba5eb8b-1388-408f-caeb-d81431dfbf98"
      },
      "execution_count": null,
      "outputs": [
        {
          "output_type": "execute_result",
          "data": {
            "text/plain": [
              "41.9"
            ]
          },
          "metadata": {},
          "execution_count": 27
        }
      ]
    },
    {
      "cell_type": "markdown",
      "source": [
        "**Expected value for top occupations in India = Prof-speciality**"
      ],
      "metadata": {
        "id": "rncmjSjccNZj"
      }
    },
    {
      "cell_type": "code",
      "source": [
        "calculate_demographic_data(False)['top_IN_occupation']"
      ],
      "metadata": {
        "id": "bXy72gYhVeI3",
        "colab": {
          "base_uri": "https://localhost:8080/",
          "height": 35
        },
        "outputId": "cf35f02f-7371-43c2-985d-95ba8a4d8941"
      },
      "execution_count": null,
      "outputs": [
        {
          "output_type": "execute_result",
          "data": {
            "text/plain": [
              "'Prof-specialty'"
            ],
            "application/vnd.google.colaboratory.intrinsic+json": {
              "type": "string"
            }
          },
          "metadata": {},
          "execution_count": 28
        }
      ]
    }
  ]
}