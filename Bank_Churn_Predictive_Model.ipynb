{
  "nbformat": 4,
  "nbformat_minor": 0,
  "metadata": {
    "colab": {
      "name": "Bank Churn Predictive Model.ipynb",
      "provenance": []
    },
    "kernelspec": {
      "name": "python3",
      "display_name": "Python 3"
    },
    "language_info": {
      "name": "python"
    },
    "accelerator": "GPU",
    "gpuClass": "standard"
  },
  "cells": [
    {
      "cell_type": "code",
      "execution_count": null,
      "metadata": {
        "id": "bYYKbPcGnGQC"
      },
      "outputs": [],
      "source": [
        "import numpy as np\n",
        "import pandas as pd\n",
        "import matplotlib.pyplot as plt\n",
        "import seaborn as sns\n",
        "from sklearn.preprocessing import LabelEncoder, MinMaxScaler\n",
        "from imblearn.over_sampling import SMOTE\n",
        "from sklearn.model_selection import train_test_split\n",
        "import tensorflow as tf\n",
        "from tensorflow import keras\n",
        "from sklearn.metrics import classification_report, confusion_matrix"
      ]
    },
    {
      "cell_type": "code",
      "source": [
        "!pip install kaggle\n",
        "!mkdir ~/.kaggle\n",
        "!cp kaggle.json ~/.kaggle/\n",
        "!chmod 600 ~/.kaggle/kaggle.json"
      ],
      "metadata": {
        "colab": {
          "base_uri": "https://localhost:8080/"
        },
        "collapsed": true,
        "id": "ZDLTHY9HnUev",
        "outputId": "7e63c5de-46c3-450f-c62b-c6a49ea3a176"
      },
      "execution_count": null,
      "outputs": [
        {
          "output_type": "stream",
          "name": "stdout",
          "text": [
            "Looking in indexes: https://pypi.org/simple, https://us-python.pkg.dev/colab-wheels/public/simple/\n",
            "Requirement already satisfied: kaggle in /usr/local/lib/python3.7/dist-packages (1.5.12)\n",
            "Requirement already satisfied: six>=1.10 in /usr/local/lib/python3.7/dist-packages (from kaggle) (1.15.0)\n",
            "Requirement already satisfied: python-dateutil in /usr/local/lib/python3.7/dist-packages (from kaggle) (2.8.2)\n",
            "Requirement already satisfied: urllib3 in /usr/local/lib/python3.7/dist-packages (from kaggle) (1.24.3)\n",
            "Requirement already satisfied: python-slugify in /usr/local/lib/python3.7/dist-packages (from kaggle) (6.1.2)\n",
            "Requirement already satisfied: tqdm in /usr/local/lib/python3.7/dist-packages (from kaggle) (4.64.0)\n",
            "Requirement already satisfied: certifi in /usr/local/lib/python3.7/dist-packages (from kaggle) (2022.6.15)\n",
            "Requirement already satisfied: requests in /usr/local/lib/python3.7/dist-packages (from kaggle) (2.23.0)\n",
            "Requirement already satisfied: text-unidecode>=1.3 in /usr/local/lib/python3.7/dist-packages (from python-slugify->kaggle) (1.3)\n",
            "Requirement already satisfied: idna<3,>=2.5 in /usr/local/lib/python3.7/dist-packages (from requests->kaggle) (2.10)\n",
            "Requirement already satisfied: chardet<4,>=3.0.2 in /usr/local/lib/python3.7/dist-packages (from requests->kaggle) (3.0.4)\n"
          ]
        }
      ]
    },
    {
      "cell_type": "code",
      "source": [
        "!kaggle datasets download barelydedicated/bank-customer-churn-modeling"
      ],
      "metadata": {
        "colab": {
          "base_uri": "https://localhost:8080/"
        },
        "id": "UTzf-veNpimr",
        "outputId": "3986a711-34a5-44d1-a238-2632bc871f19"
      },
      "execution_count": null,
      "outputs": [
        {
          "output_type": "stream",
          "name": "stdout",
          "text": [
            "Downloading bank-customer-churn-modeling.zip to /content\n",
            "\r  0% 0.00/262k [00:00<?, ?B/s]\n",
            "\r100% 262k/262k [00:00<00:00, 88.3MB/s]\n"
          ]
        }
      ]
    },
    {
      "cell_type": "code",
      "source": [
        "!unzip bank-customer-churn-modeling"
      ],
      "metadata": {
        "colab": {
          "base_uri": "https://localhost:8080/"
        },
        "id": "y6x60yOUpuii",
        "outputId": "02071e33-20a9-4e5b-871a-21646da5b33f"
      },
      "execution_count": null,
      "outputs": [
        {
          "output_type": "stream",
          "name": "stdout",
          "text": [
            "Archive:  bank-customer-churn-modeling.zip\n",
            "  inflating: Churn_Modelling.csv     \n"
          ]
        }
      ]
    },
    {
      "cell_type": "code",
      "source": [
        "df = pd.read_csv(\"Churn_Modelling.csv\")"
      ],
      "metadata": {
        "id": "2bpVvG9IqDoP"
      },
      "execution_count": null,
      "outputs": []
    },
    {
      "cell_type": "code",
      "source": [
        "df.sample(5)"
      ],
      "metadata": {
        "colab": {
          "base_uri": "https://localhost:8080/",
          "height": 206
        },
        "id": "kwGeYf5qqSYT",
        "outputId": "688bb635-0cf7-4a7f-d712-50f87050e97b"
      },
      "execution_count": null,
      "outputs": [
        {
          "output_type": "execute_result",
          "data": {
            "text/plain": [
              "      RowNumber  CustomerId     Surname  CreditScore Geography  Gender  Age  \\\n",
              "9613       9614    15737025     Roberts          635    France    Male   33   \n",
              "2813       2814    15600934     Randell          758    France  Female   52   \n",
              "7426       7427    15790630  Olisaemeka          619    France  Female   48   \n",
              "4437       4438    15779522      Efimov          736    France  Female   24   \n",
              "5373       5374    15709412          H?          776     Spain    Male   30   \n",
              "\n",
              "      Tenure    Balance  NumOfProducts  HasCrCard  IsActiveMember  \\\n",
              "9613       1       0.00              3          0               0   \n",
              "2813       7  125095.94              1          1               0   \n",
              "7426       4       0.00              1          0               0   \n",
              "4437       0       0.00              2          1               0   \n",
              "5373       6       0.00              2          0               1   \n",
              "\n",
              "      EstimatedSalary  Exited  \n",
              "9613        178067.33       1  \n",
              "2813        171189.83       1  \n",
              "7426         18094.96       1  \n",
              "4437        109355.73       1  \n",
              "5373         63908.86       0  "
            ],
            "text/html": [
              "\n",
              "  <div id=\"df-d4e3fa7b-8623-45a9-8f8e-107db4844901\">\n",
              "    <div class=\"colab-df-container\">\n",
              "      <div>\n",
              "<style scoped>\n",
              "    .dataframe tbody tr th:only-of-type {\n",
              "        vertical-align: middle;\n",
              "    }\n",
              "\n",
              "    .dataframe tbody tr th {\n",
              "        vertical-align: top;\n",
              "    }\n",
              "\n",
              "    .dataframe thead th {\n",
              "        text-align: right;\n",
              "    }\n",
              "</style>\n",
              "<table border=\"1\" class=\"dataframe\">\n",
              "  <thead>\n",
              "    <tr style=\"text-align: right;\">\n",
              "      <th></th>\n",
              "      <th>RowNumber</th>\n",
              "      <th>CustomerId</th>\n",
              "      <th>Surname</th>\n",
              "      <th>CreditScore</th>\n",
              "      <th>Geography</th>\n",
              "      <th>Gender</th>\n",
              "      <th>Age</th>\n",
              "      <th>Tenure</th>\n",
              "      <th>Balance</th>\n",
              "      <th>NumOfProducts</th>\n",
              "      <th>HasCrCard</th>\n",
              "      <th>IsActiveMember</th>\n",
              "      <th>EstimatedSalary</th>\n",
              "      <th>Exited</th>\n",
              "    </tr>\n",
              "  </thead>\n",
              "  <tbody>\n",
              "    <tr>\n",
              "      <th>9613</th>\n",
              "      <td>9614</td>\n",
              "      <td>15737025</td>\n",
              "      <td>Roberts</td>\n",
              "      <td>635</td>\n",
              "      <td>France</td>\n",
              "      <td>Male</td>\n",
              "      <td>33</td>\n",
              "      <td>1</td>\n",
              "      <td>0.00</td>\n",
              "      <td>3</td>\n",
              "      <td>0</td>\n",
              "      <td>0</td>\n",
              "      <td>178067.33</td>\n",
              "      <td>1</td>\n",
              "    </tr>\n",
              "    <tr>\n",
              "      <th>2813</th>\n",
              "      <td>2814</td>\n",
              "      <td>15600934</td>\n",
              "      <td>Randell</td>\n",
              "      <td>758</td>\n",
              "      <td>France</td>\n",
              "      <td>Female</td>\n",
              "      <td>52</td>\n",
              "      <td>7</td>\n",
              "      <td>125095.94</td>\n",
              "      <td>1</td>\n",
              "      <td>1</td>\n",
              "      <td>0</td>\n",
              "      <td>171189.83</td>\n",
              "      <td>1</td>\n",
              "    </tr>\n",
              "    <tr>\n",
              "      <th>7426</th>\n",
              "      <td>7427</td>\n",
              "      <td>15790630</td>\n",
              "      <td>Olisaemeka</td>\n",
              "      <td>619</td>\n",
              "      <td>France</td>\n",
              "      <td>Female</td>\n",
              "      <td>48</td>\n",
              "      <td>4</td>\n",
              "      <td>0.00</td>\n",
              "      <td>1</td>\n",
              "      <td>0</td>\n",
              "      <td>0</td>\n",
              "      <td>18094.96</td>\n",
              "      <td>1</td>\n",
              "    </tr>\n",
              "    <tr>\n",
              "      <th>4437</th>\n",
              "      <td>4438</td>\n",
              "      <td>15779522</td>\n",
              "      <td>Efimov</td>\n",
              "      <td>736</td>\n",
              "      <td>France</td>\n",
              "      <td>Female</td>\n",
              "      <td>24</td>\n",
              "      <td>0</td>\n",
              "      <td>0.00</td>\n",
              "      <td>2</td>\n",
              "      <td>1</td>\n",
              "      <td>0</td>\n",
              "      <td>109355.73</td>\n",
              "      <td>1</td>\n",
              "    </tr>\n",
              "    <tr>\n",
              "      <th>5373</th>\n",
              "      <td>5374</td>\n",
              "      <td>15709412</td>\n",
              "      <td>H?</td>\n",
              "      <td>776</td>\n",
              "      <td>Spain</td>\n",
              "      <td>Male</td>\n",
              "      <td>30</td>\n",
              "      <td>6</td>\n",
              "      <td>0.00</td>\n",
              "      <td>2</td>\n",
              "      <td>0</td>\n",
              "      <td>1</td>\n",
              "      <td>63908.86</td>\n",
              "      <td>0</td>\n",
              "    </tr>\n",
              "  </tbody>\n",
              "</table>\n",
              "</div>\n",
              "      <button class=\"colab-df-convert\" onclick=\"convertToInteractive('df-d4e3fa7b-8623-45a9-8f8e-107db4844901')\"\n",
              "              title=\"Convert this dataframe to an interactive table.\"\n",
              "              style=\"display:none;\">\n",
              "        \n",
              "  <svg xmlns=\"http://www.w3.org/2000/svg\" height=\"24px\"viewBox=\"0 0 24 24\"\n",
              "       width=\"24px\">\n",
              "    <path d=\"M0 0h24v24H0V0z\" fill=\"none\"/>\n",
              "    <path d=\"M18.56 5.44l.94 2.06.94-2.06 2.06-.94-2.06-.94-.94-2.06-.94 2.06-2.06.94zm-11 1L8.5 8.5l.94-2.06 2.06-.94-2.06-.94L8.5 2.5l-.94 2.06-2.06.94zm10 10l.94 2.06.94-2.06 2.06-.94-2.06-.94-.94-2.06-.94 2.06-2.06.94z\"/><path d=\"M17.41 7.96l-1.37-1.37c-.4-.4-.92-.59-1.43-.59-.52 0-1.04.2-1.43.59L10.3 9.45l-7.72 7.72c-.78.78-.78 2.05 0 2.83L4 21.41c.39.39.9.59 1.41.59.51 0 1.02-.2 1.41-.59l7.78-7.78 2.81-2.81c.8-.78.8-2.07 0-2.86zM5.41 20L4 18.59l7.72-7.72 1.47 1.35L5.41 20z\"/>\n",
              "  </svg>\n",
              "      </button>\n",
              "      \n",
              "  <style>\n",
              "    .colab-df-container {\n",
              "      display:flex;\n",
              "      flex-wrap:wrap;\n",
              "      gap: 12px;\n",
              "    }\n",
              "\n",
              "    .colab-df-convert {\n",
              "      background-color: #E8F0FE;\n",
              "      border: none;\n",
              "      border-radius: 50%;\n",
              "      cursor: pointer;\n",
              "      display: none;\n",
              "      fill: #1967D2;\n",
              "      height: 32px;\n",
              "      padding: 0 0 0 0;\n",
              "      width: 32px;\n",
              "    }\n",
              "\n",
              "    .colab-df-convert:hover {\n",
              "      background-color: #E2EBFA;\n",
              "      box-shadow: 0px 1px 2px rgba(60, 64, 67, 0.3), 0px 1px 3px 1px rgba(60, 64, 67, 0.15);\n",
              "      fill: #174EA6;\n",
              "    }\n",
              "\n",
              "    [theme=dark] .colab-df-convert {\n",
              "      background-color: #3B4455;\n",
              "      fill: #D2E3FC;\n",
              "    }\n",
              "\n",
              "    [theme=dark] .colab-df-convert:hover {\n",
              "      background-color: #434B5C;\n",
              "      box-shadow: 0px 1px 3px 1px rgba(0, 0, 0, 0.15);\n",
              "      filter: drop-shadow(0px 1px 2px rgba(0, 0, 0, 0.3));\n",
              "      fill: #FFFFFF;\n",
              "    }\n",
              "  </style>\n",
              "\n",
              "      <script>\n",
              "        const buttonEl =\n",
              "          document.querySelector('#df-d4e3fa7b-8623-45a9-8f8e-107db4844901 button.colab-df-convert');\n",
              "        buttonEl.style.display =\n",
              "          google.colab.kernel.accessAllowed ? 'block' : 'none';\n",
              "\n",
              "        async function convertToInteractive(key) {\n",
              "          const element = document.querySelector('#df-d4e3fa7b-8623-45a9-8f8e-107db4844901');\n",
              "          const dataTable =\n",
              "            await google.colab.kernel.invokeFunction('convertToInteractive',\n",
              "                                                     [key], {});\n",
              "          if (!dataTable) return;\n",
              "\n",
              "          const docLinkHtml = 'Like what you see? Visit the ' +\n",
              "            '<a target=\"_blank\" href=https://colab.research.google.com/notebooks/data_table.ipynb>data table notebook</a>'\n",
              "            + ' to learn more about interactive tables.';\n",
              "          element.innerHTML = '';\n",
              "          dataTable['output_type'] = 'display_data';\n",
              "          await google.colab.output.renderOutput(dataTable, element);\n",
              "          const docLink = document.createElement('div');\n",
              "          docLink.innerHTML = docLinkHtml;\n",
              "          element.appendChild(docLink);\n",
              "        }\n",
              "      </script>\n",
              "    </div>\n",
              "  </div>\n",
              "  "
            ]
          },
          "metadata": {},
          "execution_count": 30
        }
      ]
    },
    {
      "cell_type": "code",
      "source": [
        "df.shape"
      ],
      "metadata": {
        "colab": {
          "base_uri": "https://localhost:8080/"
        },
        "id": "iGwRFOhB4FDe",
        "outputId": "e40d40aa-0c79-4be1-8abf-9a1de654d205"
      },
      "execution_count": null,
      "outputs": [
        {
          "output_type": "execute_result",
          "data": {
            "text/plain": [
              "(10000, 14)"
            ]
          },
          "metadata": {},
          "execution_count": 31
        }
      ]
    },
    {
      "cell_type": "code",
      "source": [
        "df.drop(['RowNumber','CustomerId','Surname'], axis=1, inplace=True)\n",
        "df.info()"
      ],
      "metadata": {
        "colab": {
          "base_uri": "https://localhost:8080/"
        },
        "id": "48gI39xVqja6",
        "outputId": "e250ea29-5f12-42df-b411-b735561bbd82"
      },
      "execution_count": null,
      "outputs": [
        {
          "output_type": "stream",
          "name": "stdout",
          "text": [
            "<class 'pandas.core.frame.DataFrame'>\n",
            "RangeIndex: 10000 entries, 0 to 9999\n",
            "Data columns (total 11 columns):\n",
            " #   Column           Non-Null Count  Dtype  \n",
            "---  ------           --------------  -----  \n",
            " 0   CreditScore      10000 non-null  int64  \n",
            " 1   Geography        10000 non-null  object \n",
            " 2   Gender           10000 non-null  object \n",
            " 3   Age              10000 non-null  int64  \n",
            " 4   Tenure           10000 non-null  int64  \n",
            " 5   Balance          10000 non-null  float64\n",
            " 6   NumOfProducts    10000 non-null  int64  \n",
            " 7   HasCrCard        10000 non-null  int64  \n",
            " 8   IsActiveMember   10000 non-null  int64  \n",
            " 9   EstimatedSalary  10000 non-null  float64\n",
            " 10  Exited           10000 non-null  int64  \n",
            "dtypes: float64(2), int64(7), object(2)\n",
            "memory usage: 859.5+ KB\n"
          ]
        }
      ]
    },
    {
      "cell_type": "code",
      "source": [
        "df['Geography'].unique()"
      ],
      "metadata": {
        "colab": {
          "base_uri": "https://localhost:8080/"
        },
        "id": "lSZJl7BuquGC",
        "outputId": "73524d78-8509-4f8d-92a5-0c1133b8e0a8"
      },
      "execution_count": null,
      "outputs": [
        {
          "output_type": "execute_result",
          "data": {
            "text/plain": [
              "array(['France', 'Spain', 'Germany'], dtype=object)"
            ]
          },
          "metadata": {},
          "execution_count": 33
        }
      ]
    },
    {
      "cell_type": "code",
      "source": [
        "df['Gender'] = LabelEncoder().fit_transform(df['Gender'])\n",
        "df['Geography'] = LabelEncoder().fit_transform(df['Geography'])"
      ],
      "metadata": {
        "id": "GHIxoKkprzaY"
      },
      "execution_count": null,
      "outputs": []
    },
    {
      "cell_type": "code",
      "source": [
        "df.info()"
      ],
      "metadata": {
        "colab": {
          "base_uri": "https://localhost:8080/"
        },
        "id": "idw18sgksLjm",
        "outputId": "a7b3aad2-1f0f-4e4f-cca6-9a846a1e9af4"
      },
      "execution_count": null,
      "outputs": [
        {
          "output_type": "stream",
          "name": "stdout",
          "text": [
            "<class 'pandas.core.frame.DataFrame'>\n",
            "RangeIndex: 10000 entries, 0 to 9999\n",
            "Data columns (total 11 columns):\n",
            " #   Column           Non-Null Count  Dtype  \n",
            "---  ------           --------------  -----  \n",
            " 0   CreditScore      10000 non-null  int64  \n",
            " 1   Geography        10000 non-null  int64  \n",
            " 2   Gender           10000 non-null  int64  \n",
            " 3   Age              10000 non-null  int64  \n",
            " 4   Tenure           10000 non-null  int64  \n",
            " 5   Balance          10000 non-null  float64\n",
            " 6   NumOfProducts    10000 non-null  int64  \n",
            " 7   HasCrCard        10000 non-null  int64  \n",
            " 8   IsActiveMember   10000 non-null  int64  \n",
            " 9   EstimatedSalary  10000 non-null  float64\n",
            " 10  Exited           10000 non-null  int64  \n",
            "dtypes: float64(2), int64(9)\n",
            "memory usage: 859.5 KB\n"
          ]
        }
      ]
    },
    {
      "cell_type": "code",
      "source": [
        "yes = df[df.Exited == 1].Tenure\n",
        "no = df[df.Exited == 0].Tenure"
      ],
      "metadata": {
        "id": "QSCjTOdutnvy"
      },
      "execution_count": null,
      "outputs": []
    },
    {
      "cell_type": "code",
      "source": [
        "plt.xlabel(\"Tenure\")\n",
        "plt.ylabel(\"Number of customers\")\n",
        "plt.title(\"Bank Customer Churn Prediction Viz\")\n",
        "\n",
        "plt.hist([yes,no], color = ['blue','green'], label = ['Churn = Yes','Churn = No'])\n",
        "plt.legend()\n",
        "plt.show()"
      ],
      "metadata": {
        "colab": {
          "base_uri": "https://localhost:8080/",
          "height": 384
        },
        "id": "1kU8X4v-t5qC",
        "outputId": "95334110-60cc-4c9d-cee1-0215e08a22bd"
      },
      "execution_count": null,
      "outputs": [
        {
          "output_type": "stream",
          "name": "stderr",
          "text": [
            "/usr/local/lib/python3.7/dist-packages/numpy/core/fromnumeric.py:3208: VisibleDeprecationWarning: Creating an ndarray from ragged nested sequences (which is a list-or-tuple of lists-or-tuples-or ndarrays with different lengths or shapes) is deprecated. If you meant to do this, you must specify 'dtype=object' when creating the ndarray.\n",
            "  return asarray(a).size\n",
            "/usr/local/lib/python3.7/dist-packages/matplotlib/cbook/__init__.py:1376: VisibleDeprecationWarning: Creating an ndarray from ragged nested sequences (which is a list-or-tuple of lists-or-tuples-or ndarrays with different lengths or shapes) is deprecated. If you meant to do this, you must specify 'dtype=object' when creating the ndarray.\n",
            "  X = np.atleast_1d(X.T if isinstance(X, np.ndarray) else np.asarray(X))\n"
          ]
        },
        {
          "output_type": "display_data",
          "data": {
            "text/plain": [
              "<Figure size 432x288 with 1 Axes>"
            ],
            "image/png": "[encoded data removed]"
          },
          "metadata": {
            "needs_background": "light"
          }
        }
      ]
    },
    {
      "cell_type": "code",
      "source": [
        "col = ['Age','CreditScore','Balance','EstimatedSalary']\n",
        "df[col] = MinMaxScaler().fit_transform(np.array(df[col]))"
      ],
      "metadata": {
        "id": "pqbc18Yju0r3"
      },
      "execution_count": null,
      "outputs": []
    },
    {
      "cell_type": "code",
      "source": [
        "df['EstimatedSalary']"
      ],
      "metadata": {
        "colab": {
          "base_uri": "https://localhost:8080/"
        },
        "id": "gVkmvWmq4U4Y",
        "outputId": "9e010e78-87ad-4d71-dfe8-2d9a929429e9"
      },
      "execution_count": null,
      "outputs": [
        {
          "output_type": "execute_result",
          "data": {
            "text/plain": [
              "0       0.506735\n",
              "1       0.562709\n",
              "2       0.569654\n",
              "3       0.469120\n",
              "4       0.395400\n",
              "          ...   \n",
              "9995    0.481341\n",
              "9996    0.508490\n",
              "9997    0.210390\n",
              "9998    0.464429\n",
              "9999    0.190914\n",
              "Name: EstimatedSalary, Length: 10000, dtype: float64"
            ]
          },
          "metadata": {},
          "execution_count": 39
        }
      ]
    },
    {
      "cell_type": "code",
      "source": [
        "x = df.drop('Exited',axis=1)\n",
        "y = df['Exited']"
      ],
      "metadata": {
        "id": "0GEQp_n1flpK",
        "collapsed": true
      },
      "execution_count": null,
      "outputs": []
    },
    {
      "cell_type": "code",
      "source": [
        "df[df['Exited'] == 1].shape"
      ],
      "metadata": {
        "colab": {
          "base_uri": "https://localhost:8080/"
        },
        "id": "bP8uOQLF3q20",
        "outputId": "e0d9d4cc-365a-4b3a-8a63-45adf838b139"
      },
      "execution_count": null,
      "outputs": [
        {
          "output_type": "execute_result",
          "data": {
            "text/plain": [
              "(2037, 11)"
            ]
          },
          "metadata": {},
          "execution_count": 41
        }
      ]
    },
    {
      "cell_type": "code",
      "source": [
        "df[df['Exited'] == 0].shape"
      ],
      "metadata": {
        "colab": {
          "base_uri": "https://localhost:8080/"
        },
        "id": "Hx2-qDMj4JcO",
        "outputId": "47b3f013-c51e-4a65-a8bd-4a7de15e59de"
      },
      "execution_count": null,
      "outputs": [
        {
          "output_type": "execute_result",
          "data": {
            "text/plain": [
              "(7963, 11)"
            ]
          },
          "metadata": {},
          "execution_count": 42
        }
      ]
    },
    {
      "cell_type": "code",
      "source": [
        "x_sm, y_sm = SMOTE(sampling_strategy='minority').fit_resample(x,y)\n",
        "print(f\"Before: \\n{y.value_counts()} \\nNow: \\n{y_sm.value_counts()}\")"
      ],
      "metadata": {
        "id": "JC2cI90DpoSk",
        "colab": {
          "base_uri": "https://localhost:8080/"
        },
        "outputId": "96a340cb-31e7-4497-cc71-9c95dc2da7fe"
      },
      "execution_count": null,
      "outputs": [
        {
          "output_type": "stream",
          "name": "stdout",
          "text": [
            "Before: \n",
            "0    7963\n",
            "1    2037\n",
            "Name: Exited, dtype: int64 \n",
            "Now: \n",
            "1    7963\n",
            "0    7963\n",
            "Name: Exited, dtype: int64\n"
          ]
        }
      ]
    },
    {
      "cell_type": "code",
      "source": [
        "# artificial neural network model\n",
        "\n",
        "def ANN(x_train, x_test, y_train, y_test, weight=-1):\n",
        "    '''\n",
        "    Creates a model with 3 layers.\n",
        "    Prints the classification results.\n",
        "    Returns the model.\n",
        "    '''\n",
        "    l = len(x_train.columns)\n",
        "    model = keras.Sequential()\n",
        "    model.add(keras.layers.Dense(l, input_dim = l, activation = 'relu'))\n",
        "    model.add(keras.layers.Dense(l/2, activation = 'relu'))\n",
        "    model.add(keras.layers.Dense(1, activation = 'sigmoid'))\n",
        "\n",
        "    model.compile(optimizer='adam', loss = 'binary_crossentropy', metrics = ['accuracy'])\n",
        "\n",
        "    if weight == -1:\n",
        "        model.fit(x_train, y_train, epochs = 100,)\n",
        "    else:\n",
        "        model.fit(x_train, y_train, epochs = 100, class_weight = weight)\n",
        "\n",
        "    yp = np.round(model.predict(x_test))\n",
        "\n",
        "    print(classification_report(y_true= y_test, y_pred = yp))\n",
        "    return model"
      ],
      "metadata": {
        "id": "Rk3NBrAgEl-h"
      },
      "execution_count": null,
      "outputs": []
    },
    {
      "cell_type": "code",
      "source": [
        "model = ANN(*train_test_split(x_sm, y_sm, test_size=0.25, random_state=42))"
      ],
      "metadata": {
        "id": "9zkmC2h4ppH7",
        "colab": {
          "base_uri": "https://localhost:8080/"
        },
        "collapsed": true,
        "outputId": "fa58b906-081b-4c88-8663-b53859d50586"
      },
      "execution_count": null,
      "outputs": [
        {
          "output_type": "stream",
          "name": "stdout",
          "text": [
            "Epoch 1/100\n",
            "374/374 [==============================] - 2s 3ms/step - loss: 0.6856 - accuracy: 0.5628\n",
            "Epoch 2/100\n",
            "374/374 [==============================] - 1s 3ms/step - loss: 0.6565 - accuracy: 0.6306\n",
            "Epoch 3/100\n",
            "374/374 [==============================] - 1s 3ms/step - loss: 0.6266 - accuracy: 0.6733\n",
            "Epoch 4/100\n",
            "374/374 [==============================] - 1s 3ms/step - loss: 0.6003 - accuracy: 0.6929\n",
            "Epoch 5/100\n",
            "374/374 [==============================] - 1s 3ms/step - loss: 0.5739 - accuracy: 0.7184\n",
            "Epoch 6/100\n",
            "374/374 [==============================] - 1s 3ms/step - loss: 0.5535 - accuracy: 0.7281\n",
            "Epoch 7/100\n",
            "374/374 [==============================] - 1s 3ms/step - loss: 0.5390 - accuracy: 0.7381\n",
            "Epoch 8/100\n",
            "374/374 [==============================] - 1s 3ms/step - loss: 0.5283 - accuracy: 0.7508\n",
            "Epoch 9/100\n",
            "374/374 [==============================] - 1s 3ms/step - loss: 0.5197 - accuracy: 0.7537\n",
            "Epoch 10/100\n",
            "374/374 [==============================] - 1s 3ms/step - loss: 0.5119 - accuracy: 0.7607\n",
            "Epoch 11/100\n",
            "374/374 [==============================] - 1s 3ms/step - loss: 0.5062 - accuracy: 0.7594\n",
            "Epoch 12/100\n",
            "374/374 [==============================] - 1s 3ms/step - loss: 0.5017 - accuracy: 0.7631\n",
            "Epoch 13/100\n",
            "374/374 [==============================] - 1s 3ms/step - loss: 0.4975 - accuracy: 0.7647\n",
            "Epoch 14/100\n",
            "374/374 [==============================] - 1s 3ms/step - loss: 0.4941 - accuracy: 0.7646\n",
            "Epoch 15/100\n",
            "374/374 [==============================] - 1s 3ms/step - loss: 0.4913 - accuracy: 0.7645\n",
            "Epoch 16/100\n",
            "374/374 [==============================] - 1s 3ms/step - loss: 0.4883 - accuracy: 0.7705\n",
            "Epoch 17/100\n",
            "374/374 [==============================] - 1s 3ms/step - loss: 0.4861 - accuracy: 0.7681\n",
            "Epoch 18/100\n",
            "374/374 [==============================] - 1s 3ms/step - loss: 0.4842 - accuracy: 0.7700\n",
            "Epoch 19/100\n",
            "374/374 [==============================] - 1s 3ms/step - loss: 0.4829 - accuracy: 0.7696\n",
            "Epoch 20/100\n",
            "374/374 [==============================] - 1s 3ms/step - loss: 0.4811 - accuracy: 0.7696\n",
            "Epoch 21/100\n",
            "374/374 [==============================] - 1s 3ms/step - loss: 0.4778 - accuracy: 0.7724\n",
            "Epoch 22/100\n",
            "374/374 [==============================] - 1s 3ms/step - loss: 0.4765 - accuracy: 0.7719\n",
            "Epoch 23/100\n",
            "374/374 [==============================] - 1s 3ms/step - loss: 0.4741 - accuracy: 0.7762\n",
            "Epoch 24/100\n",
            "374/374 [==============================] - 1s 3ms/step - loss: 0.4737 - accuracy: 0.7733\n",
            "Epoch 25/100\n",
            "374/374 [==============================] - 1s 3ms/step - loss: 0.4721 - accuracy: 0.7763\n",
            "Epoch 26/100\n",
            "374/374 [==============================] - 1s 3ms/step - loss: 0.4699 - accuracy: 0.7757\n",
            "Epoch 27/100\n",
            "374/374 [==============================] - 1s 3ms/step - loss: 0.4681 - accuracy: 0.7765\n",
            "Epoch 28/100\n",
            "374/374 [==============================] - 1s 3ms/step - loss: 0.4673 - accuracy: 0.7791\n",
            "Epoch 29/100\n",
            "374/374 [==============================] - 1s 3ms/step - loss: 0.4655 - accuracy: 0.7781\n",
            "Epoch 30/100\n",
            "374/374 [==============================] - 1s 3ms/step - loss: 0.4642 - accuracy: 0.7811\n",
            "Epoch 31/100\n",
            "374/374 [==============================] - 1s 3ms/step - loss: 0.4638 - accuracy: 0.7796\n",
            "Epoch 32/100\n",
            "374/374 [==============================] - 1s 3ms/step - loss: 0.4620 - accuracy: 0.7804\n",
            "Epoch 33/100\n",
            "374/374 [==============================] - 1s 3ms/step - loss: 0.4607 - accuracy: 0.7806\n",
            "Epoch 34/100\n",
            "374/374 [==============================] - 1s 3ms/step - loss: 0.4594 - accuracy: 0.7817\n",
            "Epoch 35/100\n",
            "374/374 [==============================] - 1s 3ms/step - loss: 0.4594 - accuracy: 0.7815\n",
            "Epoch 36/100\n",
            "374/374 [==============================] - 1s 3ms/step - loss: 0.4589 - accuracy: 0.7808\n",
            "Epoch 37/100\n",
            "374/374 [==============================] - 1s 3ms/step - loss: 0.4573 - accuracy: 0.7829\n",
            "Epoch 38/100\n",
            "374/374 [==============================] - 1s 3ms/step - loss: 0.4563 - accuracy: 0.7819\n",
            "Epoch 39/100\n",
            "374/374 [==============================] - 1s 3ms/step - loss: 0.4559 - accuracy: 0.7857\n",
            "Epoch 40/100\n",
            "374/374 [==============================] - 1s 3ms/step - loss: 0.4551 - accuracy: 0.7844\n",
            "Epoch 41/100\n",
            "374/374 [==============================] - 1s 3ms/step - loss: 0.4550 - accuracy: 0.7863\n",
            "Epoch 42/100\n",
            "374/374 [==============================] - 1s 3ms/step - loss: 0.4553 - accuracy: 0.7842\n",
            "Epoch 43/100\n",
            "374/374 [==============================] - 1s 3ms/step - loss: 0.4553 - accuracy: 0.7810\n",
            "Epoch 44/100\n",
            "374/374 [==============================] - 1s 3ms/step - loss: 0.4546 - accuracy: 0.7837\n",
            "Epoch 45/100\n",
            "374/374 [==============================] - 1s 3ms/step - loss: 0.4530 - accuracy: 0.7842\n",
            "Epoch 46/100\n",
            "374/374 [==============================] - 1s 3ms/step - loss: 0.4535 - accuracy: 0.7821\n",
            "Epoch 47/100\n",
            "374/374 [==============================] - 1s 3ms/step - loss: 0.4535 - accuracy: 0.7848\n",
            "Epoch 48/100\n",
            "374/374 [==============================] - 1s 3ms/step - loss: 0.4532 - accuracy: 0.7837\n",
            "Epoch 49/100\n",
            "374/374 [==============================] - 1s 3ms/step - loss: 0.4527 - accuracy: 0.7836\n",
            "Epoch 50/100\n",
            "374/374 [==============================] - 1s 3ms/step - loss: 0.4516 - accuracy: 0.7837\n",
            "Epoch 51/100\n",
            "374/374 [==============================] - 1s 3ms/step - loss: 0.4520 - accuracy: 0.7849\n",
            "Epoch 52/100\n",
            "374/374 [==============================] - 1s 3ms/step - loss: 0.4516 - accuracy: 0.7822\n",
            "Epoch 53/100\n",
            "374/374 [==============================] - 1s 3ms/step - loss: 0.4517 - accuracy: 0.7833\n",
            "Epoch 54/100\n",
            "374/374 [==============================] - 1s 3ms/step - loss: 0.4501 - accuracy: 0.7850\n",
            "Epoch 55/100\n",
            "374/374 [==============================] - 1s 3ms/step - loss: 0.4497 - accuracy: 0.7866\n",
            "Epoch 56/100\n",
            "374/374 [==============================] - 2s 4ms/step - loss: 0.4498 - accuracy: 0.7861\n",
            "Epoch 57/100\n",
            "374/374 [==============================] - 1s 3ms/step - loss: 0.4492 - accuracy: 0.7874\n",
            "Epoch 58/100\n",
            "374/374 [==============================] - 1s 3ms/step - loss: 0.4467 - accuracy: 0.7893\n",
            "Epoch 59/100\n",
            "374/374 [==============================] - 1s 3ms/step - loss: 0.4456 - accuracy: 0.7891\n",
            "Epoch 60/100\n",
            "374/374 [==============================] - 1s 3ms/step - loss: 0.4450 - accuracy: 0.7903\n",
            "Epoch 61/100\n",
            "374/374 [==============================] - 1s 3ms/step - loss: 0.4451 - accuracy: 0.7897\n",
            "Epoch 62/100\n",
            "374/374 [==============================] - 1s 3ms/step - loss: 0.4441 - accuracy: 0.7890\n",
            "Epoch 63/100\n",
            "374/374 [==============================] - 1s 3ms/step - loss: 0.4440 - accuracy: 0.7898\n",
            "Epoch 64/100\n",
            "374/374 [==============================] - 1s 3ms/step - loss: 0.4434 - accuracy: 0.7906\n",
            "Epoch 65/100\n",
            "374/374 [==============================] - 1s 3ms/step - loss: 0.4422 - accuracy: 0.7911\n",
            "Epoch 66/100\n",
            "374/374 [==============================] - 1s 3ms/step - loss: 0.4408 - accuracy: 0.7930\n",
            "Epoch 67/100\n",
            "374/374 [==============================] - 1s 3ms/step - loss: 0.4418 - accuracy: 0.7940\n",
            "Epoch 68/100\n",
            "374/374 [==============================] - 1s 3ms/step - loss: 0.4404 - accuracy: 0.7930\n",
            "Epoch 69/100\n",
            "374/374 [==============================] - 1s 3ms/step - loss: 0.4396 - accuracy: 0.7960\n",
            "Epoch 70/100\n",
            "374/374 [==============================] - 2s 4ms/step - loss: 0.4395 - accuracy: 0.7931\n",
            "Epoch 71/100\n",
            "374/374 [==============================] - 1s 3ms/step - loss: 0.4399 - accuracy: 0.7929\n",
            "Epoch 72/100\n",
            "374/374 [==============================] - 1s 3ms/step - loss: 0.4386 - accuracy: 0.7945\n",
            "Epoch 73/100\n",
            "374/374 [==============================] - 1s 3ms/step - loss: 0.4385 - accuracy: 0.7957\n",
            "Epoch 74/100\n",
            "374/374 [==============================] - 1s 3ms/step - loss: 0.4380 - accuracy: 0.7950\n",
            "Epoch 75/100\n",
            "374/374 [==============================] - 1s 3ms/step - loss: 0.4383 - accuracy: 0.7931\n",
            "Epoch 76/100\n",
            "374/374 [==============================] - 1s 3ms/step - loss: 0.4394 - accuracy: 0.7919\n",
            "Epoch 77/100\n",
            "374/374 [==============================] - 1s 3ms/step - loss: 0.4367 - accuracy: 0.7936\n",
            "Epoch 78/100\n",
            "374/374 [==============================] - 1s 3ms/step - loss: 0.4391 - accuracy: 0.7919\n",
            "Epoch 79/100\n",
            "374/374 [==============================] - 1s 3ms/step - loss: 0.4380 - accuracy: 0.7948\n",
            "Epoch 80/100\n",
            "374/374 [==============================] - 1s 3ms/step - loss: 0.4377 - accuracy: 0.7950\n",
            "Epoch 81/100\n",
            "374/374 [==============================] - 1s 3ms/step - loss: 0.4369 - accuracy: 0.7960\n",
            "Epoch 82/100\n",
            "374/374 [==============================] - 1s 3ms/step - loss: 0.4375 - accuracy: 0.7953\n",
            "Epoch 83/100\n",
            "374/374 [==============================] - 1s 3ms/step - loss: 0.4365 - accuracy: 0.7946\n",
            "Epoch 84/100\n",
            "374/374 [==============================] - 1s 3ms/step - loss: 0.4362 - accuracy: 0.7927\n",
            "Epoch 85/100\n",
            "374/374 [==============================] - 1s 3ms/step - loss: 0.4364 - accuracy: 0.7951\n",
            "Epoch 86/100\n",
            "374/374 [==============================] - 1s 3ms/step - loss: 0.4363 - accuracy: 0.7945\n",
            "Epoch 87/100\n",
            "374/374 [==============================] - 1s 3ms/step - loss: 0.4365 - accuracy: 0.7938\n",
            "Epoch 88/100\n",
            "374/374 [==============================] - 1s 3ms/step - loss: 0.4367 - accuracy: 0.7943\n",
            "Epoch 89/100\n",
            "374/374 [==============================] - 1s 3ms/step - loss: 0.4362 - accuracy: 0.7927\n",
            "Epoch 90/100\n",
            "374/374 [==============================] - 1s 3ms/step - loss: 0.4362 - accuracy: 0.7960\n",
            "Epoch 91/100\n",
            "374/374 [==============================] - 1s 3ms/step - loss: 0.4367 - accuracy: 0.7942\n",
            "Epoch 92/100\n",
            "374/374 [==============================] - 1s 3ms/step - loss: 0.4363 - accuracy: 0.7929\n",
            "Epoch 93/100\n",
            "374/374 [==============================] - 1s 3ms/step - loss: 0.4353 - accuracy: 0.7966\n",
            "Epoch 94/100\n",
            "374/374 [==============================] - 1s 3ms/step - loss: 0.4350 - accuracy: 0.7957\n",
            "Epoch 95/100\n",
            "374/374 [==============================] - 1s 3ms/step - loss: 0.4354 - accuracy: 0.7959\n",
            "Epoch 96/100\n",
            "374/374 [==============================] - 1s 3ms/step - loss: 0.4357 - accuracy: 0.7940\n",
            "Epoch 97/100\n",
            "374/374 [==============================] - 1s 3ms/step - loss: 0.4348 - accuracy: 0.7951\n",
            "Epoch 98/100\n",
            "374/374 [==============================] - 1s 3ms/step - loss: 0.4357 - accuracy: 0.7963\n",
            "Epoch 99/100\n",
            "374/374 [==============================] - 1s 3ms/step - loss: 0.4355 - accuracy: 0.7966\n",
            "Epoch 100/100\n",
            "374/374 [==============================] - 1s 3ms/step - loss: 0.4350 - accuracy: 0.7953\n",
            "              precision    recall  f1-score   support\n",
            "\n",
            "           0       0.80      0.80      0.80      2036\n",
            "           1       0.79      0.79      0.79      1946\n",
            "\n",
            "    accuracy                           0.79      3982\n",
            "   macro avg       0.79      0.79      0.79      3982\n",
            "weighted avg       0.79      0.79      0.79      3982\n",
            "\n"
          ]
        }
      ]
    },
    {
      "cell_type": "code",
      "source": [
        ""
      ],
      "metadata": {
        "id": "xRc7EZVGpxfn"
      },
      "execution_count": null,
      "outputs": []
    }
  ]
}