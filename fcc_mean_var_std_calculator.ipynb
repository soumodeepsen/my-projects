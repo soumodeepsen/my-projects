{
  "nbformat": 4,
  "nbformat_minor": 0,
  "metadata": {
    "colab": {
      "name": "fcc_mean_var_std_calculator.ipynb",
      "provenance": [],
      "collapsed_sections": [],
      "authorship_tag": "ABX9TyPabfzA+zi99K8OMul4D+au",
      "include_colab_link": true
    },
    "kernelspec": {
      "name": "python3",
      "display_name": "Python 3"
    },
    "language_info": {
      "name": "python"
    }
  },
  "cells": [
    {
      "cell_type": "markdown",
      "metadata": {
        "id": "view-in-github",
        "colab_type": "text"
      },
      "source": [
        "<a href=\"https://colab.research.google.com/github/soumodeepsen/my-projects/blob/main/fcc_mean_var_std_calculator.ipynb\" target=\"_parent\"><img src=\"https://colab.research.google.com/assets/colab-badge.svg\" alt=\"Open In Colab\"/></a>"
      ]
    },
    {
      "cell_type": "markdown",
      "source": [
        "The original Replit  file contains various modules but the code here is simplied for making it easier. The following block of code contains the code for **'mean_var_std.py'** module.\n",
        "\n",
        "For my original RepLit code, one can follow the [link](https://replit.com/join/alethczrjs-soumodeepsen)."
      ],
      "metadata": {
        "id": "8Jo1ldISRFyr"
      }
    },
    {
      "cell_type": "code",
      "execution_count": 1,
      "metadata": {
        "id": "DklSkxQqxA9U"
      },
      "outputs": [],
      "source": [
        "import numpy as np\n",
        "\n",
        "def calculate(list):\n",
        "  if len(list) < 9:\n",
        "    raise ValueError(\"List must contain nine numbers.\")\n",
        "  else:\n",
        "    dataset = np.array(list, dtype='int16').reshape((3,3))\n",
        "    h_mean = np.mean(dataset,axis=0).tolist()\n",
        "    h_variance = np.var(dataset, axis=0).tolist()\n",
        "    h_sd = np.sqrt(h_variance).tolist()\n",
        "    h_max = np.max(dataset, axis=0).tolist()\n",
        "    h_min = np.min(dataset, axis=0).tolist()\n",
        "    h_sum = np.sum(dataset, axis=0).tolist()\n",
        "\n",
        "    v_mean = np.mean(dataset,axis=1).tolist()\n",
        "    v_variance = np.var(dataset, axis=1).tolist()\n",
        "    v_sd = np.sqrt(v_variance).tolist()\n",
        "    v_max = np.max(dataset, axis=1).tolist()\n",
        "    v_min = np.min(dataset, axis=1).tolist()\n",
        "    v_sum = np.sum(dataset, axis=1).tolist()\n",
        "\n",
        "    f_mean = np.mean(dataset).tolist()\n",
        "    f_variance = np.var(dataset).tolist()\n",
        "    f_sd = np.sqrt(f_variance).tolist()\n",
        "    f_max = np.max(dataset).tolist()\n",
        "    f_min = np.min(dataset).tolist()\n",
        "    f_sum = np.sum(dataset).tolist()\n",
        "    \n",
        "    calculations = {\n",
        "      'mean' : [h_mean, v_mean, f_mean],\n",
        "      'variance' : [h_variance, v_variance, f_variance],\n",
        "      'standard deviation' : [h_sd, v_sd, f_sd],\n",
        "      'max' : [h_max, v_max, f_max],\n",
        "      'min' : [h_min, v_min, f_min],\n",
        "      'sum' : [h_sum, v_sum, f_sum]\n",
        "    }\n",
        "    return calculations"
      ]
    },
    {
      "cell_type": "code",
      "source": [
        "'''\n",
        "expected = {'mean': [[3.6666666666666665, 5.0, 3.0], \n",
        "                     [3.3333333333333335, 4.0, 4.333333333333333], \n",
        "                     3.888888888888889], \n",
        "            'variance': [[9.555555555555557, 0.6666666666666666, 8.666666666666666], \n",
        "                         [3.555555555555556, 10.666666666666666, 6.222222222222221], \n",
        "                          6.987654320987654], \n",
        "            'standard deviation': [[3.091206165165235, 0.816496580927726, 2.943920288775949], \n",
        "                                   [1.8856180831641267, 3.265986323710904, 2.494438257849294], \n",
        "                                    2.6434171674156266], \n",
        "            'max': [[8, 6, 7], \n",
        "                    [6, 8, 7], \n",
        "                     8], \n",
        "            'min': [[1, 4, 0], \n",
        "                    [2, 0, 1], \n",
        "                     0], \n",
        "            'sum': [[11, 15, 9], \n",
        "                    [10, 12, 13], \n",
        "                     35]\n",
        "            }\n",
        "'''\n",
        "calculate([2,6,2,8,4,0,1,5,7])"
      ],
      "metadata": {
        "colab": {
          "base_uri": "https://localhost:8080/"
        },
        "id": "HgOD6roeN-K1",
        "outputId": "36792706-31ef-4ec5-f94c-42ddd9720059"
      },
      "execution_count": 18,
      "outputs": [
        {
          "output_type": "execute_result",
          "data": {
            "text/plain": [
              "{'max': [[8, 6, 7], [6, 8, 7], 8],\n",
              " 'mean': [[3.6666666666666665, 5.0, 3.0],\n",
              "  [3.3333333333333335, 4.0, 4.333333333333333],\n",
              "  3.888888888888889],\n",
              " 'min': [[1, 4, 0], [2, 0, 1], 0],\n",
              " 'standard deviation': [[3.091206165165235,\n",
              "   0.816496580927726,\n",
              "   2.943920288775949],\n",
              "  [1.8856180831641267, 3.265986323710904, 2.494438257849294],\n",
              "  2.6434171674156266],\n",
              " 'sum': [[11, 15, 9], [10, 12, 13], 35],\n",
              " 'variance': [[9.555555555555557, 0.6666666666666666, 8.666666666666666],\n",
              "  [3.555555555555556, 10.666666666666666, 6.222222222222221],\n",
              "  6.987654320987654]}"
            ]
          },
          "metadata": {},
          "execution_count": 18
        }
      ]
    },
    {
      "cell_type": "code",
      "source": [
        "'''\n",
        "expected = {'mean': [[4.666666666666667, 4.333333333333333, 2.6666666666666665], \n",
        "                     [5.0, 3.0, 3.6666666666666665], \n",
        "                      3.888888888888889], \n",
        "            'variance': [[9.555555555555555, 11.555555555555557, 4.222222222222222], \n",
        "                         [10.666666666666666, 0.0, 14.888888888888891], \n",
        "                          9.209876543209875], \n",
        "            'standard deviation': [[3.0912061651652345, 3.39934634239519, 2.0548046676563256], \n",
        "                                   [3.265986323710904, 0.0, 3.8586123009300755], \n",
        "                                    3.0347778408328137], \n",
        "            'max': [[9, 9, 5], \n",
        "                    [9, 3, 9], \n",
        "                     9], \n",
        "            'min': [[2, 1, 0], \n",
        "                    [1, 3, 0], \n",
        "                     0], \n",
        "            'sum': [[14, 13, 8], \n",
        "                    [15, 9, 11], \n",
        "                     35]}\n",
        "'''\n",
        "calculate([9,1,5,3,3,3,2,9,0])"
      ],
      "metadata": {
        "colab": {
          "base_uri": "https://localhost:8080/"
        },
        "id": "YMjH0RNtPCJT",
        "outputId": "3e782263-9db2-491f-8e57-b08f9ba13b4e"
      },
      "execution_count": 15,
      "outputs": [
        {
          "output_type": "execute_result",
          "data": {
            "text/plain": [
              "{'max': [[9, 9, 5], [9, 3, 9], 9],\n",
              " 'mean': [[4.666666666666667, 4.333333333333333, 2.6666666666666665],\n",
              "  [5.0, 3.0, 3.6666666666666665],\n",
              "  3.888888888888889],\n",
              " 'min': [[2, 1, 0], [1, 3, 0], 0],\n",
              " 'standard deviation': [[3.0912061651652345,\n",
              "   3.39934634239519,\n",
              "   2.0548046676563256],\n",
              "  [3.265986323710904, 0.0, 3.8586123009300755],\n",
              "  3.0347778408328137],\n",
              " 'sum': [[14, 13, 8], [15, 9, 11], 35],\n",
              " 'variance': [[9.555555555555555, 11.555555555555557, 4.222222222222222],\n",
              "  [10.666666666666666, 0.0, 14.888888888888891],\n",
              "  9.209876543209875]}"
            ]
          },
          "metadata": {},
          "execution_count": 15
        }
      ]
    },
    {
      "cell_type": "code",
      "source": [
        "'''\n",
        "Checking whether it raises a ValueError saying -\"List must contain nine numbers.\"\n",
        "'''\n",
        "calculate([2,6,2,8,4,0,1,])"
      ],
      "metadata": {
        "colab": {
          "base_uri": "https://localhost:8080/",
          "height": 321
        },
        "id": "we0P4WgDP3SK",
        "outputId": "b1e8cd6d-1478-49fa-fbba-0680fa0985ad"
      },
      "execution_count": 17,
      "outputs": [
        {
          "output_type": "error",
          "ename": "ValueError",
          "evalue": "ignored",
          "traceback": [
            "\u001b[0;31m---------------------------------------------------------------------------\u001b[0m",
            "\u001b[0;31mValueError\u001b[0m                                Traceback (most recent call last)",
            "\u001b[0;32m<ipython-input-17-e0b08b73142c>\u001b[0m in \u001b[0;36m<module>\u001b[0;34m()\u001b[0m\n\u001b[1;32m      2\u001b[0m \u001b[0mChecking\u001b[0m \u001b[0mwhether\u001b[0m \u001b[0mit\u001b[0m \u001b[0mraises\u001b[0m \u001b[0ma\u001b[0m \u001b[0mValueError\u001b[0m \u001b[0msaying\u001b[0m \u001b[0;34m-\u001b[0m\u001b[0;34m\"List must contain nine numbers.\"\u001b[0m\u001b[0;34m\u001b[0m\u001b[0;34m\u001b[0m\u001b[0m\n\u001b[1;32m      3\u001b[0m '''\n\u001b[0;32m----> 4\u001b[0;31m \u001b[0mcalculate\u001b[0m\u001b[0;34m(\u001b[0m\u001b[0;34m[\u001b[0m\u001b[0;36m2\u001b[0m\u001b[0;34m,\u001b[0m\u001b[0;36m6\u001b[0m\u001b[0;34m,\u001b[0m\u001b[0;36m2\u001b[0m\u001b[0;34m,\u001b[0m\u001b[0;36m8\u001b[0m\u001b[0;34m,\u001b[0m\u001b[0;36m4\u001b[0m\u001b[0;34m,\u001b[0m\u001b[0;36m0\u001b[0m\u001b[0;34m,\u001b[0m\u001b[0;36m1\u001b[0m\u001b[0;34m,\u001b[0m\u001b[0;34m]\u001b[0m\u001b[0;34m)\u001b[0m\u001b[0;34m\u001b[0m\u001b[0;34m\u001b[0m\u001b[0m\n\u001b[0m",
            "\u001b[0;32m<ipython-input-1-30f73e731dc3>\u001b[0m in \u001b[0;36mcalculate\u001b[0;34m(list)\u001b[0m\n\u001b[1;32m      3\u001b[0m \u001b[0;32mdef\u001b[0m \u001b[0mcalculate\u001b[0m\u001b[0;34m(\u001b[0m\u001b[0mlist\u001b[0m\u001b[0;34m)\u001b[0m\u001b[0;34m:\u001b[0m\u001b[0;34m\u001b[0m\u001b[0;34m\u001b[0m\u001b[0m\n\u001b[1;32m      4\u001b[0m   \u001b[0;32mif\u001b[0m \u001b[0mlen\u001b[0m\u001b[0;34m(\u001b[0m\u001b[0mlist\u001b[0m\u001b[0;34m)\u001b[0m \u001b[0;34m<\u001b[0m \u001b[0;36m9\u001b[0m\u001b[0;34m:\u001b[0m\u001b[0;34m\u001b[0m\u001b[0;34m\u001b[0m\u001b[0m\n\u001b[0;32m----> 5\u001b[0;31m     \u001b[0;32mraise\u001b[0m \u001b[0mValueError\u001b[0m\u001b[0;34m(\u001b[0m\u001b[0;34m\"List must contain nine numbers.\"\u001b[0m\u001b[0;34m)\u001b[0m\u001b[0;34m\u001b[0m\u001b[0;34m\u001b[0m\u001b[0m\n\u001b[0m\u001b[1;32m      6\u001b[0m   \u001b[0;32melse\u001b[0m\u001b[0;34m:\u001b[0m\u001b[0;34m\u001b[0m\u001b[0;34m\u001b[0m\u001b[0m\n\u001b[1;32m      7\u001b[0m     \u001b[0mdataset\u001b[0m \u001b[0;34m=\u001b[0m \u001b[0mnp\u001b[0m\u001b[0;34m.\u001b[0m\u001b[0marray\u001b[0m\u001b[0;34m(\u001b[0m\u001b[0mlist\u001b[0m\u001b[0;34m,\u001b[0m \u001b[0mdtype\u001b[0m\u001b[0;34m=\u001b[0m\u001b[0;34m'int16'\u001b[0m\u001b[0;34m)\u001b[0m\u001b[0;34m.\u001b[0m\u001b[0mreshape\u001b[0m\u001b[0;34m(\u001b[0m\u001b[0;34m(\u001b[0m\u001b[0;36m3\u001b[0m\u001b[0;34m,\u001b[0m\u001b[0;36m3\u001b[0m\u001b[0;34m)\u001b[0m\u001b[0;34m)\u001b[0m\u001b[0;34m\u001b[0m\u001b[0;34m\u001b[0m\u001b[0m\n",
            "\u001b[0;31mValueError\u001b[0m: List must contain nine numbers."
          ]
        }
      ]
    }
  ]
}